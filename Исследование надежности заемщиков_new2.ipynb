{
 "cells": [
  {
   "cell_type": "markdown",
   "id": "85c761d6",
   "metadata": {},
   "source": [
    "## **Комментарий ревьюера**\n",
    "\n",
    "Привет 👋\n",
    "\n",
    "Меня зовут Валентин, и я буду проверять твой проект. Предлагаю сразу договориться общаться на «ты», если для тебя это не уместно, то дай, пожалуйста, знать, будем общаться на «вы».\n",
    "\n",
    "### **Краткое резюме по ревью**\n",
    "\n",
    "<div style=\"border-radius: 15px; box-shadow: 2px 2px 4px; border: 1px solid; background:Gainsboro; padding: 20px\">\n",
    "        \n",
    "Видны твои старания при работе над данным проектом. Большинство основных этапов в работе сделано хорошо:\n",
    "- есть много сильных и интересных алгоритмов 🤩\n",
    "- детально изучены многие тонкости данных\n",
    "- здорово сделана предобработка данных\n",
    "- качественно исследованы данные\n",
    "- сделано много верных промежуточных выводов, основанных на полученных данных\n",
    "\n",
    "Твоего внимания требует:\n",
    "- пересмотр вывода\n",
    "\n",
    "Я описал замечания в комментариях, которые помечены цветом(красным, желтым), после их доработки я смогу принять работу.\n",
    "    \n",
    "Спасибо тебе за твой труд! Я на все 100% уверен, что у тебя все получится, и с нетерпением буду ждать твою работу на повторное ревью 😉\n",
    "\n",
    "</div>\n",
    "\n",
    "### **PS:**\n",
    "\n",
    "Хочу поделиться дополнительным материалом, он бесплатный, но объемный(может уйти несколько месяцев):\n",
    "- У Тимофея Хирьянова есть [Плей-лист по алгоритмам на python](https://www.youtube.com/playlist?list=PLRDzFCPr95fK7tr47883DFUbm4GeOjjc0), это вроде просто видео-лекции, но в описании есть ссылка на лекции и практику, не стесняйся смотреть, преподаватель очень наглядно объясняет материал. На первых уроках задания могут показаться сложными, так как требует знания геометрии, не стесняйся проходить далее, будет проще)\n",
    "\n",
    "### **Правила оформления:**\n",
    "\n",
    "По ходу тетрадки ты найдешь комментарии к проекту, они будут в отдельных ячейках Markdown с заголовком «Комментарий ревьюера». Постарайся учесть эти комментарии для дальнейших проектов. Я использую заголовки в комментариях, они изменят твое оглавление. Но тебе будет удобно перемещаться от комментария к комментарию. А перед перемещением проекта в портфолио просто уберешь данные комментарии.\n",
    "\n",
    "Пожалуйста, **не перемещай, не изменяй и не удаляй мои комментарии**. Всё это поможет выполнить повторную проверку твоего проекта быстрее.\n",
    "\n",
    "Я буду красить комментарии цветом:\n",
    "\n",
    "<div class=\"alert alert-danger\"; style=\"border-left: 7px solid FireBrick\">\n",
    "<h4> ❌ <font color=\"FireBrick\">Комментарий ревьюера (красный)</font></h4>\n",
    "\n",
    "Такой комментарий нужно исправить обязательно, он критически влияет на удачное выполнение проекта.\n",
    "\n",
    "Также жду от тебя комментарии, где вкратце опишешь изменения, которые были внесены.\n",
    "</div>\n",
    "\n",
    "<div class=\"alert alert-warning\"; style=\"border-left: 7px solid Gold\">\n",
    "<h4> ⚠️ <font color=\"DarkGoldenRod\">Комментарий ревьюера (желтый)</font></h4>\n",
    "\n",
    "Такой комментарий является рекомендацией или советом. Можешь использовать их на своё усмотрение.\n",
    "    \n",
    "В случае изменений кода, опиши, пожалуйста, вкратце то, что изменилось. Если изменений не было, то просто опиши свои мысли на эту тему.\n",
    "</div>\n",
    "\n",
    "<div class=\"alert alert-success\"; style=\"border-left: 7px solid green\">\n",
    "<h4> ✔️ <font color=\"green\">Комментарий ревьюера (зеленый)</font></h4>\n",
    "\n",
    "Такой комментарий говорит о том, что было сделано что-то качественное и правильное 😃\n",
    "    \n",
    "Я не буду ждать твоего комментария, но буду ему очень рад 🤗\n",
    "</div>\n",
    "\n",
    "Чтобы мы были на одной волне, рекомендую общаться в том же стиле 😊 Твои ответы на мои комментарии будут подкрашиваться в синий цвет.\n",
    "\n",
    "Ниже я оформил образец для твоего удобства, тебе остается только добавить после моего комментария ячейку с типом **Markdown**, скопировать туда код(чтобы увидеть код дважды, кликни на ячейку) из образца и написать свои мысли по поводу комментария."
   ]
  },
  {
   "cell_type": "markdown",
   "id": "f024c17e",
   "metadata": {},
   "source": [
    "<div class=\"alert alert-info\"; style=\"border-left: 7px solid SteelBlue\">\n",
    "<h5>🎓 <font color=\"SteelBlue\">Комментарий от студента (синий)</font></h5>    \n",
    "\n",
    "Привет Валентин! \n",
    "- В первую очередь благодарю за оценку моего проекта, и коментариям к нему!  \n",
    "- Отдельное спасибо за предоставленный доп-материал, который непременно возьму на изучение!\n",
    "\n",
    "</div>"
   ]
  },
  {
   "cell_type": "markdown",
   "id": "601dc4be",
   "metadata": {},
   "source": [
    "## **Комментарий ревьюера v2**\n",
    "\n",
    "### **Краткое резюме по ревью**\n",
    "<div style=\"border-radius: 15px; box-shadow: 2px 2px 4px; border: 1px solid; background:Gainsboro; padding: 20px\">\n",
    "\n",
    "Молодец, исправлено:\n",
    "- пересмотр вывода\n",
    "\n",
    "Спасибо тебе за твой труд! Я готов принять работу. Успехов в дальнейшем обучении!\n",
    "\n",
    "</div>"
   ]
  },
  {
   "cell_type": "markdown",
   "id": "386f2ae7",
   "metadata": {
    "deletable": false,
    "editable": false,
    "id": "386f2ae7"
   },
   "source": [
    "# Исследование надежности заемщиков\n"
   ]
  },
  {
   "cell_type": "markdown",
   "id": "ffe86f65",
   "metadata": {
    "deletable": false,
    "editable": false,
    "id": "ffe86f65"
   },
   "source": [
    "Во второй части проекта вы выполните шаги 3 и 4. Их вручную проверит ревьюер.\n",
    "Чтобы вам не пришлось писать код заново для шагов 1 и 2, мы добавили авторские решения в ячейки с кодом. \n",
    "\n"
   ]
  },
  {
   "cell_type": "markdown",
   "id": "26613308",
   "metadata": {
    "deletable": false,
    "editable": false,
    "id": "26613308"
   },
   "source": [
    "## Откройте таблицу и изучите общую информацию о данных"
   ]
  },
  {
   "cell_type": "markdown",
   "id": "3c9f838e",
   "metadata": {
    "deletable": false,
    "editable": false,
    "id": "3c9f838e"
   },
   "source": [
    "**Задание 1. Импортируйте библиотеку pandas. Считайте данные из csv-файла в датафрейм и сохраните в переменную `data`. Путь к файлу:**\n",
    "\n",
    "`/datasets/data.csv`"
   ]
  },
  {
   "cell_type": "code",
   "execution_count": 1,
   "id": "77a68a90",
   "metadata": {
    "deletable": false,
    "id": "77a68a90"
   },
   "outputs": [],
   "source": [
    "import pandas as pd\n",
    "\n",
    "try:\n",
    "    data = pd.read_csv('/datasets/data.csv')\n",
    "except:\n",
    "    data = pd.read_csv('https://code.s3.yandex.net/datasets/data.csv')"
   ]
  },
  {
   "cell_type": "markdown",
   "id": "45365635",
   "metadata": {
    "deletable": false,
    "editable": false,
    "id": "45365635"
   },
   "source": [
    "**Задание 2. Выведите первые 20 строчек датафрейма `data` на экран.**"
   ]
  },
  {
   "cell_type": "code",
   "execution_count": 2,
   "id": "b0451a9a",
   "metadata": {
    "deletable": false,
    "id": "b0451a9a",
    "outputId": "1a8f3ef2-d323-4ec2-ddf7-89670b5944c4"
   },
   "outputs": [
    {
     "data": {
      "text/html": [
       "<div>\n",
       "<style scoped>\n",
       "    .dataframe tbody tr th:only-of-type {\n",
       "        vertical-align: middle;\n",
       "    }\n",
       "\n",
       "    .dataframe tbody tr th {\n",
       "        vertical-align: top;\n",
       "    }\n",
       "\n",
       "    .dataframe thead th {\n",
       "        text-align: right;\n",
       "    }\n",
       "</style>\n",
       "<table border=\"1\" class=\"dataframe\">\n",
       "  <thead>\n",
       "    <tr style=\"text-align: right;\">\n",
       "      <th></th>\n",
       "      <th>children</th>\n",
       "      <th>days_employed</th>\n",
       "      <th>dob_years</th>\n",
       "      <th>education</th>\n",
       "      <th>education_id</th>\n",
       "      <th>family_status</th>\n",
       "      <th>family_status_id</th>\n",
       "      <th>gender</th>\n",
       "      <th>income_type</th>\n",
       "      <th>debt</th>\n",
       "      <th>total_income</th>\n",
       "      <th>purpose</th>\n",
       "    </tr>\n",
       "  </thead>\n",
       "  <tbody>\n",
       "    <tr>\n",
       "      <th>0</th>\n",
       "      <td>1</td>\n",
       "      <td>-8437.673028</td>\n",
       "      <td>42</td>\n",
       "      <td>высшее</td>\n",
       "      <td>0</td>\n",
       "      <td>женат / замужем</td>\n",
       "      <td>0</td>\n",
       "      <td>F</td>\n",
       "      <td>сотрудник</td>\n",
       "      <td>0</td>\n",
       "      <td>253875.639453</td>\n",
       "      <td>покупка жилья</td>\n",
       "    </tr>\n",
       "    <tr>\n",
       "      <th>1</th>\n",
       "      <td>1</td>\n",
       "      <td>-4024.803754</td>\n",
       "      <td>36</td>\n",
       "      <td>среднее</td>\n",
       "      <td>1</td>\n",
       "      <td>женат / замужем</td>\n",
       "      <td>0</td>\n",
       "      <td>F</td>\n",
       "      <td>сотрудник</td>\n",
       "      <td>0</td>\n",
       "      <td>112080.014102</td>\n",
       "      <td>приобретение автомобиля</td>\n",
       "    </tr>\n",
       "    <tr>\n",
       "      <th>2</th>\n",
       "      <td>0</td>\n",
       "      <td>-5623.422610</td>\n",
       "      <td>33</td>\n",
       "      <td>Среднее</td>\n",
       "      <td>1</td>\n",
       "      <td>женат / замужем</td>\n",
       "      <td>0</td>\n",
       "      <td>M</td>\n",
       "      <td>сотрудник</td>\n",
       "      <td>0</td>\n",
       "      <td>145885.952297</td>\n",
       "      <td>покупка жилья</td>\n",
       "    </tr>\n",
       "    <tr>\n",
       "      <th>3</th>\n",
       "      <td>3</td>\n",
       "      <td>-4124.747207</td>\n",
       "      <td>32</td>\n",
       "      <td>среднее</td>\n",
       "      <td>1</td>\n",
       "      <td>женат / замужем</td>\n",
       "      <td>0</td>\n",
       "      <td>M</td>\n",
       "      <td>сотрудник</td>\n",
       "      <td>0</td>\n",
       "      <td>267628.550329</td>\n",
       "      <td>дополнительное образование</td>\n",
       "    </tr>\n",
       "    <tr>\n",
       "      <th>4</th>\n",
       "      <td>0</td>\n",
       "      <td>340266.072047</td>\n",
       "      <td>53</td>\n",
       "      <td>среднее</td>\n",
       "      <td>1</td>\n",
       "      <td>гражданский брак</td>\n",
       "      <td>1</td>\n",
       "      <td>F</td>\n",
       "      <td>пенсионер</td>\n",
       "      <td>0</td>\n",
       "      <td>158616.077870</td>\n",
       "      <td>сыграть свадьбу</td>\n",
       "    </tr>\n",
       "    <tr>\n",
       "      <th>5</th>\n",
       "      <td>0</td>\n",
       "      <td>-926.185831</td>\n",
       "      <td>27</td>\n",
       "      <td>высшее</td>\n",
       "      <td>0</td>\n",
       "      <td>гражданский брак</td>\n",
       "      <td>1</td>\n",
       "      <td>M</td>\n",
       "      <td>компаньон</td>\n",
       "      <td>0</td>\n",
       "      <td>255763.565419</td>\n",
       "      <td>покупка жилья</td>\n",
       "    </tr>\n",
       "    <tr>\n",
       "      <th>6</th>\n",
       "      <td>0</td>\n",
       "      <td>-2879.202052</td>\n",
       "      <td>43</td>\n",
       "      <td>высшее</td>\n",
       "      <td>0</td>\n",
       "      <td>женат / замужем</td>\n",
       "      <td>0</td>\n",
       "      <td>F</td>\n",
       "      <td>компаньон</td>\n",
       "      <td>0</td>\n",
       "      <td>240525.971920</td>\n",
       "      <td>операции с жильем</td>\n",
       "    </tr>\n",
       "    <tr>\n",
       "      <th>7</th>\n",
       "      <td>0</td>\n",
       "      <td>-152.779569</td>\n",
       "      <td>50</td>\n",
       "      <td>СРЕДНЕЕ</td>\n",
       "      <td>1</td>\n",
       "      <td>женат / замужем</td>\n",
       "      <td>0</td>\n",
       "      <td>M</td>\n",
       "      <td>сотрудник</td>\n",
       "      <td>0</td>\n",
       "      <td>135823.934197</td>\n",
       "      <td>образование</td>\n",
       "    </tr>\n",
       "    <tr>\n",
       "      <th>8</th>\n",
       "      <td>2</td>\n",
       "      <td>-6929.865299</td>\n",
       "      <td>35</td>\n",
       "      <td>ВЫСШЕЕ</td>\n",
       "      <td>0</td>\n",
       "      <td>гражданский брак</td>\n",
       "      <td>1</td>\n",
       "      <td>F</td>\n",
       "      <td>сотрудник</td>\n",
       "      <td>0</td>\n",
       "      <td>95856.832424</td>\n",
       "      <td>на проведение свадьбы</td>\n",
       "    </tr>\n",
       "    <tr>\n",
       "      <th>9</th>\n",
       "      <td>0</td>\n",
       "      <td>-2188.756445</td>\n",
       "      <td>41</td>\n",
       "      <td>среднее</td>\n",
       "      <td>1</td>\n",
       "      <td>женат / замужем</td>\n",
       "      <td>0</td>\n",
       "      <td>M</td>\n",
       "      <td>сотрудник</td>\n",
       "      <td>0</td>\n",
       "      <td>144425.938277</td>\n",
       "      <td>покупка жилья для семьи</td>\n",
       "    </tr>\n",
       "    <tr>\n",
       "      <th>10</th>\n",
       "      <td>2</td>\n",
       "      <td>-4171.483647</td>\n",
       "      <td>36</td>\n",
       "      <td>высшее</td>\n",
       "      <td>0</td>\n",
       "      <td>женат / замужем</td>\n",
       "      <td>0</td>\n",
       "      <td>M</td>\n",
       "      <td>компаньон</td>\n",
       "      <td>0</td>\n",
       "      <td>113943.491460</td>\n",
       "      <td>покупка недвижимости</td>\n",
       "    </tr>\n",
       "    <tr>\n",
       "      <th>11</th>\n",
       "      <td>0</td>\n",
       "      <td>-792.701887</td>\n",
       "      <td>40</td>\n",
       "      <td>среднее</td>\n",
       "      <td>1</td>\n",
       "      <td>женат / замужем</td>\n",
       "      <td>0</td>\n",
       "      <td>F</td>\n",
       "      <td>сотрудник</td>\n",
       "      <td>0</td>\n",
       "      <td>77069.234271</td>\n",
       "      <td>покупка коммерческой недвижимости</td>\n",
       "    </tr>\n",
       "    <tr>\n",
       "      <th>12</th>\n",
       "      <td>0</td>\n",
       "      <td>NaN</td>\n",
       "      <td>65</td>\n",
       "      <td>среднее</td>\n",
       "      <td>1</td>\n",
       "      <td>гражданский брак</td>\n",
       "      <td>1</td>\n",
       "      <td>M</td>\n",
       "      <td>пенсионер</td>\n",
       "      <td>0</td>\n",
       "      <td>NaN</td>\n",
       "      <td>сыграть свадьбу</td>\n",
       "    </tr>\n",
       "    <tr>\n",
       "      <th>13</th>\n",
       "      <td>0</td>\n",
       "      <td>-1846.641941</td>\n",
       "      <td>54</td>\n",
       "      <td>неоконченное высшее</td>\n",
       "      <td>2</td>\n",
       "      <td>женат / замужем</td>\n",
       "      <td>0</td>\n",
       "      <td>F</td>\n",
       "      <td>сотрудник</td>\n",
       "      <td>0</td>\n",
       "      <td>130458.228857</td>\n",
       "      <td>приобретение автомобиля</td>\n",
       "    </tr>\n",
       "    <tr>\n",
       "      <th>14</th>\n",
       "      <td>0</td>\n",
       "      <td>-1844.956182</td>\n",
       "      <td>56</td>\n",
       "      <td>высшее</td>\n",
       "      <td>0</td>\n",
       "      <td>гражданский брак</td>\n",
       "      <td>1</td>\n",
       "      <td>F</td>\n",
       "      <td>компаньон</td>\n",
       "      <td>1</td>\n",
       "      <td>165127.911772</td>\n",
       "      <td>покупка жилой недвижимости</td>\n",
       "    </tr>\n",
       "    <tr>\n",
       "      <th>15</th>\n",
       "      <td>1</td>\n",
       "      <td>-972.364419</td>\n",
       "      <td>26</td>\n",
       "      <td>среднее</td>\n",
       "      <td>1</td>\n",
       "      <td>женат / замужем</td>\n",
       "      <td>0</td>\n",
       "      <td>F</td>\n",
       "      <td>сотрудник</td>\n",
       "      <td>0</td>\n",
       "      <td>116820.904450</td>\n",
       "      <td>строительство собственной недвижимости</td>\n",
       "    </tr>\n",
       "    <tr>\n",
       "      <th>16</th>\n",
       "      <td>0</td>\n",
       "      <td>-1719.934226</td>\n",
       "      <td>35</td>\n",
       "      <td>среднее</td>\n",
       "      <td>1</td>\n",
       "      <td>женат / замужем</td>\n",
       "      <td>0</td>\n",
       "      <td>F</td>\n",
       "      <td>сотрудник</td>\n",
       "      <td>0</td>\n",
       "      <td>289202.704229</td>\n",
       "      <td>недвижимость</td>\n",
       "    </tr>\n",
       "    <tr>\n",
       "      <th>17</th>\n",
       "      <td>0</td>\n",
       "      <td>-2369.999720</td>\n",
       "      <td>33</td>\n",
       "      <td>высшее</td>\n",
       "      <td>0</td>\n",
       "      <td>гражданский брак</td>\n",
       "      <td>1</td>\n",
       "      <td>M</td>\n",
       "      <td>сотрудник</td>\n",
       "      <td>0</td>\n",
       "      <td>90410.586745</td>\n",
       "      <td>строительство недвижимости</td>\n",
       "    </tr>\n",
       "    <tr>\n",
       "      <th>18</th>\n",
       "      <td>0</td>\n",
       "      <td>400281.136913</td>\n",
       "      <td>53</td>\n",
       "      <td>среднее</td>\n",
       "      <td>1</td>\n",
       "      <td>вдовец / вдова</td>\n",
       "      <td>2</td>\n",
       "      <td>F</td>\n",
       "      <td>пенсионер</td>\n",
       "      <td>0</td>\n",
       "      <td>56823.777243</td>\n",
       "      <td>на покупку подержанного автомобиля</td>\n",
       "    </tr>\n",
       "    <tr>\n",
       "      <th>19</th>\n",
       "      <td>0</td>\n",
       "      <td>-10038.818549</td>\n",
       "      <td>48</td>\n",
       "      <td>СРЕДНЕЕ</td>\n",
       "      <td>1</td>\n",
       "      <td>в разводе</td>\n",
       "      <td>3</td>\n",
       "      <td>F</td>\n",
       "      <td>сотрудник</td>\n",
       "      <td>0</td>\n",
       "      <td>242831.107982</td>\n",
       "      <td>на покупку своего автомобиля</td>\n",
       "    </tr>\n",
       "  </tbody>\n",
       "</table>\n",
       "</div>"
      ],
      "text/plain": [
       "    children  days_employed  dob_years            education  education_id  \\\n",
       "0          1   -8437.673028         42               высшее             0   \n",
       "1          1   -4024.803754         36              среднее             1   \n",
       "2          0   -5623.422610         33              Среднее             1   \n",
       "3          3   -4124.747207         32              среднее             1   \n",
       "4          0  340266.072047         53              среднее             1   \n",
       "5          0    -926.185831         27               высшее             0   \n",
       "6          0   -2879.202052         43               высшее             0   \n",
       "7          0    -152.779569         50              СРЕДНЕЕ             1   \n",
       "8          2   -6929.865299         35               ВЫСШЕЕ             0   \n",
       "9          0   -2188.756445         41              среднее             1   \n",
       "10         2   -4171.483647         36               высшее             0   \n",
       "11         0    -792.701887         40              среднее             1   \n",
       "12         0            NaN         65              среднее             1   \n",
       "13         0   -1846.641941         54  неоконченное высшее             2   \n",
       "14         0   -1844.956182         56               высшее             0   \n",
       "15         1    -972.364419         26              среднее             1   \n",
       "16         0   -1719.934226         35              среднее             1   \n",
       "17         0   -2369.999720         33               высшее             0   \n",
       "18         0  400281.136913         53              среднее             1   \n",
       "19         0  -10038.818549         48              СРЕДНЕЕ             1   \n",
       "\n",
       "       family_status  family_status_id gender income_type  debt  \\\n",
       "0    женат / замужем                 0      F   сотрудник     0   \n",
       "1    женат / замужем                 0      F   сотрудник     0   \n",
       "2    женат / замужем                 0      M   сотрудник     0   \n",
       "3    женат / замужем                 0      M   сотрудник     0   \n",
       "4   гражданский брак                 1      F   пенсионер     0   \n",
       "5   гражданский брак                 1      M   компаньон     0   \n",
       "6    женат / замужем                 0      F   компаньон     0   \n",
       "7    женат / замужем                 0      M   сотрудник     0   \n",
       "8   гражданский брак                 1      F   сотрудник     0   \n",
       "9    женат / замужем                 0      M   сотрудник     0   \n",
       "10   женат / замужем                 0      M   компаньон     0   \n",
       "11   женат / замужем                 0      F   сотрудник     0   \n",
       "12  гражданский брак                 1      M   пенсионер     0   \n",
       "13   женат / замужем                 0      F   сотрудник     0   \n",
       "14  гражданский брак                 1      F   компаньон     1   \n",
       "15   женат / замужем                 0      F   сотрудник     0   \n",
       "16   женат / замужем                 0      F   сотрудник     0   \n",
       "17  гражданский брак                 1      M   сотрудник     0   \n",
       "18    вдовец / вдова                 2      F   пенсионер     0   \n",
       "19         в разводе                 3      F   сотрудник     0   \n",
       "\n",
       "     total_income                                 purpose  \n",
       "0   253875.639453                           покупка жилья  \n",
       "1   112080.014102                 приобретение автомобиля  \n",
       "2   145885.952297                           покупка жилья  \n",
       "3   267628.550329              дополнительное образование  \n",
       "4   158616.077870                         сыграть свадьбу  \n",
       "5   255763.565419                           покупка жилья  \n",
       "6   240525.971920                       операции с жильем  \n",
       "7   135823.934197                             образование  \n",
       "8    95856.832424                   на проведение свадьбы  \n",
       "9   144425.938277                 покупка жилья для семьи  \n",
       "10  113943.491460                    покупка недвижимости  \n",
       "11   77069.234271       покупка коммерческой недвижимости  \n",
       "12            NaN                         сыграть свадьбу  \n",
       "13  130458.228857                 приобретение автомобиля  \n",
       "14  165127.911772              покупка жилой недвижимости  \n",
       "15  116820.904450  строительство собственной недвижимости  \n",
       "16  289202.704229                            недвижимость  \n",
       "17   90410.586745              строительство недвижимости  \n",
       "18   56823.777243      на покупку подержанного автомобиля  \n",
       "19  242831.107982            на покупку своего автомобиля  "
      ]
     },
     "execution_count": 2,
     "metadata": {},
     "output_type": "execute_result"
    }
   ],
   "source": [
    "data.head(20)"
   ]
  },
  {
   "cell_type": "markdown",
   "id": "0ed8f27f",
   "metadata": {
    "deletable": false,
    "editable": false,
    "id": "0ed8f27f"
   },
   "source": [
    "**Задание 3. Выведите основную информацию о датафрейме с помощью метода `info()`.**"
   ]
  },
  {
   "cell_type": "code",
   "execution_count": 3,
   "id": "ab3f863b",
   "metadata": {
    "deletable": false,
    "id": "ab3f863b",
    "outputId": "15376089-8dad-46c9-b520-c05248d43158"
   },
   "outputs": [
    {
     "name": "stdout",
     "output_type": "stream",
     "text": [
      "<class 'pandas.core.frame.DataFrame'>\n",
      "RangeIndex: 21525 entries, 0 to 21524\n",
      "Data columns (total 12 columns):\n",
      " #   Column            Non-Null Count  Dtype  \n",
      "---  ------            --------------  -----  \n",
      " 0   children          21525 non-null  int64  \n",
      " 1   days_employed     19351 non-null  float64\n",
      " 2   dob_years         21525 non-null  int64  \n",
      " 3   education         21525 non-null  object \n",
      " 4   education_id      21525 non-null  int64  \n",
      " 5   family_status     21525 non-null  object \n",
      " 6   family_status_id  21525 non-null  int64  \n",
      " 7   gender            21525 non-null  object \n",
      " 8   income_type       21525 non-null  object \n",
      " 9   debt              21525 non-null  int64  \n",
      " 10  total_income      19351 non-null  float64\n",
      " 11  purpose           21525 non-null  object \n",
      "dtypes: float64(2), int64(5), object(5)\n",
      "memory usage: 2.0+ MB\n"
     ]
    }
   ],
   "source": [
    "data.info()"
   ]
  },
  {
   "cell_type": "markdown",
   "id": "60e3e22d",
   "metadata": {
    "deletable": false,
    "editable": false,
    "id": "60e3e22d"
   },
   "source": [
    "## Предобработка данных"
   ]
  },
  {
   "cell_type": "markdown",
   "id": "03dc170c",
   "metadata": {
    "deletable": false,
    "editable": false,
    "id": "03dc170c"
   },
   "source": [
    "### Удаление пропусков"
   ]
  },
  {
   "cell_type": "markdown",
   "id": "a4f54eef",
   "metadata": {
    "deletable": false,
    "editable": false,
    "id": "a4f54eef"
   },
   "source": [
    "**Задание 4. Выведите количество пропущенных значений для каждого столбца. Используйте комбинацию двух методов.**"
   ]
  },
  {
   "cell_type": "code",
   "execution_count": 4,
   "id": "2dc372b2",
   "metadata": {
    "deletable": false,
    "id": "2dc372b2",
    "outputId": "81f4d817-781c-465c-ed15-91ce4446810d"
   },
   "outputs": [
    {
     "data": {
      "text/plain": [
       "children               0\n",
       "days_employed       2174\n",
       "dob_years              0\n",
       "education              0\n",
       "education_id           0\n",
       "family_status          0\n",
       "family_status_id       0\n",
       "gender                 0\n",
       "income_type            0\n",
       "debt                   0\n",
       "total_income        2174\n",
       "purpose                0\n",
       "dtype: int64"
      ]
     },
     "execution_count": 4,
     "metadata": {},
     "output_type": "execute_result"
    }
   ],
   "source": [
    "data.isna().sum()"
   ]
  },
  {
   "cell_type": "markdown",
   "id": "14f011b1",
   "metadata": {
    "deletable": false,
    "editable": false,
    "id": "14f011b1"
   },
   "source": [
    "**Задание 5. В двух столбцах есть пропущенные значения. Один из них — `days_employed`. Пропуски в этом столбце вы обработаете на следующем этапе. Другой столбец с пропущенными значениями — `total_income` — хранит данные о доходах. На сумму дохода сильнее всего влияет тип занятости, поэтому заполнить пропуски в этом столбце нужно медианным значением по каждому типу из столбца `income_type`. Например, у человека с типом занятости `сотрудник` пропуск в столбце `total_income` должен быть заполнен медианным доходом среди всех записей с тем же типом.**"
   ]
  },
  {
   "cell_type": "code",
   "execution_count": 5,
   "id": "bdabfb6e",
   "metadata": {
    "deletable": false,
    "id": "bdabfb6e"
   },
   "outputs": [],
   "source": [
    "for t in data['income_type'].unique():\n",
    "    data.loc[(data['income_type'] == t) & (data['total_income'].isna()), 'total_income'] = \\\n",
    "    data.loc[(data['income_type'] == t), 'total_income'].median()"
   ]
  },
  {
   "cell_type": "markdown",
   "id": "5be34059",
   "metadata": {
    "deletable": false,
    "editable": false,
    "id": "5be34059"
   },
   "source": [
    "### Обработка аномальных значений"
   ]
  },
  {
   "cell_type": "markdown",
   "id": "a87606cb",
   "metadata": {
    "deletable": false,
    "editable": false,
    "id": "a87606cb"
   },
   "source": [
    "**Задание 6. В данных могут встречаться артефакты (аномалии) — значения, которые не отражают действительность и появились по какой-то ошибке. таким артефактом будет отрицательное количество дней трудового стажа в столбце `days_employed`. Для реальных данных это нормально. Обработайте значения в этом столбце: замените все отрицательные значения положительными с помощью метода `abs()`.**"
   ]
  },
  {
   "cell_type": "code",
   "execution_count": 6,
   "id": "020c46cc",
   "metadata": {
    "deletable": false,
    "id": "020c46cc"
   },
   "outputs": [],
   "source": [
    "data['days_employed'] = data['days_employed'].abs()"
   ]
  },
  {
   "cell_type": "markdown",
   "id": "45538a3a",
   "metadata": {
    "deletable": false,
    "editable": false,
    "id": "45538a3a"
   },
   "source": [
    "**Задание 7. Для каждого типа занятости выведите медианное значение трудового стажа `days_employed` в днях.**"
   ]
  },
  {
   "cell_type": "code",
   "execution_count": 7,
   "id": "cd3e6328",
   "metadata": {
    "deletable": false,
    "id": "cd3e6328",
    "outputId": "801ef80e-522b-4668-f34e-565af7432bcf"
   },
   "outputs": [
    {
     "data": {
      "text/plain": [
       "income_type\n",
       "безработный        366413.652744\n",
       "в декрете            3296.759962\n",
       "госслужащий          2689.368353\n",
       "компаньон            1547.382223\n",
       "пенсионер          365213.306266\n",
       "предприниматель       520.848083\n",
       "сотрудник            1574.202821\n",
       "студент               578.751554\n",
       "Name: days_employed, dtype: float64"
      ]
     },
     "execution_count": 7,
     "metadata": {},
     "output_type": "execute_result"
    }
   ],
   "source": [
    "data.groupby('income_type')['days_employed'].agg('median')"
   ]
  },
  {
   "cell_type": "markdown",
   "id": "90c5f058",
   "metadata": {
    "deletable": false,
    "editable": false,
    "id": "90c5f058"
   },
   "source": [
    "У двух типов (безработные и пенсионеры) получатся аномально большие значения. Исправить такие значения сложно, поэтому оставьте их как есть."
   ]
  },
  {
   "cell_type": "markdown",
   "id": "9652e50d",
   "metadata": {
    "deletable": false,
    "editable": false,
    "id": "9652e50d"
   },
   "source": [
    "**Задание 8. Выведите перечень уникальных значений столбца `children`.**"
   ]
  },
  {
   "cell_type": "code",
   "execution_count": 8,
   "id": "dbb37b8e",
   "metadata": {
    "deletable": false,
    "id": "dbb37b8e",
    "outputId": "6975b15c-7f95-4697-d16d-a0c79b657b03"
   },
   "outputs": [
    {
     "data": {
      "text/plain": [
       "array([ 1,  0,  3,  2, -1,  4, 20,  5])"
      ]
     },
     "execution_count": 8,
     "metadata": {},
     "output_type": "execute_result"
    }
   ],
   "source": [
    "data['children'].unique()"
   ]
  },
  {
   "cell_type": "markdown",
   "id": "2b8b0715",
   "metadata": {
    "deletable": false,
    "editable": false,
    "id": "2b8b0715"
   },
   "source": [
    "**Задание 9. В столбце `children` есть два аномальных значения. Удалите строки, в которых встречаются такие аномальные значения из датафрейма `data`.**"
   ]
  },
  {
   "cell_type": "code",
   "execution_count": 9,
   "id": "20009df8",
   "metadata": {
    "deletable": false,
    "id": "20009df8"
   },
   "outputs": [],
   "source": [
    "data = data[(data['children'] != -1) & (data['children'] != 20)]"
   ]
  },
  {
   "cell_type": "markdown",
   "id": "8c6ac9f1",
   "metadata": {
    "deletable": false,
    "editable": false,
    "id": "8c6ac9f1"
   },
   "source": [
    "**Задание 10. Ещё раз выведите перечень уникальных значений столбца `children`, чтобы убедиться, что артефакты удалены.**"
   ]
  },
  {
   "cell_type": "code",
   "execution_count": 10,
   "id": "07337b81",
   "metadata": {
    "deletable": false,
    "id": "07337b81",
    "outputId": "b2097101-d49d-44d9-901b-32a65c9463d1"
   },
   "outputs": [
    {
     "data": {
      "text/plain": [
       "array([1, 0, 3, 2, 4, 5])"
      ]
     },
     "execution_count": 10,
     "metadata": {},
     "output_type": "execute_result"
    }
   ],
   "source": [
    "data['children'].unique()"
   ]
  },
  {
   "cell_type": "markdown",
   "id": "ee3f52d4",
   "metadata": {
    "deletable": false,
    "editable": false,
    "id": "ee3f52d4"
   },
   "source": [
    "### Удаление пропусков (продолжение)"
   ]
  },
  {
   "cell_type": "markdown",
   "id": "a700b0e4",
   "metadata": {
    "deletable": false,
    "editable": false,
    "id": "a700b0e4"
   },
   "source": [
    "**Задание 11. Заполните пропуски в столбце `days_employed` медианными значениями по каждого типа занятости `income_type`.**"
   ]
  },
  {
   "cell_type": "code",
   "execution_count": 11,
   "id": "61946b83",
   "metadata": {
    "deletable": false,
    "id": "61946b83"
   },
   "outputs": [],
   "source": [
    "for t in data['income_type'].unique():\n",
    "    data.loc[(data['income_type'] == t) & (data['days_employed'].isna()), 'days_employed'] = \\\n",
    "    data.loc[(data['income_type'] == t), 'days_employed'].median()"
   ]
  },
  {
   "cell_type": "markdown",
   "id": "550dcd9b",
   "metadata": {
    "deletable": false,
    "editable": false,
    "id": "550dcd9b"
   },
   "source": [
    "**Задание 12. Убедитесь, что все пропуски заполнены. Проверьте себя и ещё раз выведите количество пропущенных значений для каждого столбца с помощью двух методов.**"
   ]
  },
  {
   "cell_type": "code",
   "execution_count": 12,
   "id": "937c7014",
   "metadata": {
    "deletable": false,
    "id": "937c7014",
    "outputId": "8da1e4e1-358e-4e87-98c9-f261bce0a7b2"
   },
   "outputs": [
    {
     "data": {
      "text/plain": [
       "children            0\n",
       "days_employed       0\n",
       "dob_years           0\n",
       "education           0\n",
       "education_id        0\n",
       "family_status       0\n",
       "family_status_id    0\n",
       "gender              0\n",
       "income_type         0\n",
       "debt                0\n",
       "total_income        0\n",
       "purpose             0\n",
       "dtype: int64"
      ]
     },
     "execution_count": 12,
     "metadata": {},
     "output_type": "execute_result"
    }
   ],
   "source": [
    "data.isna().sum()"
   ]
  },
  {
   "cell_type": "markdown",
   "id": "d522e295",
   "metadata": {
    "deletable": false,
    "editable": false,
    "id": "d522e295"
   },
   "source": [
    "### Изменение типов данных"
   ]
  },
  {
   "cell_type": "markdown",
   "id": "c229c581",
   "metadata": {
    "deletable": false,
    "editable": false,
    "id": "c229c581"
   },
   "source": [
    "**Задание 13. Замените вещественный тип данных в столбце `total_income` на целочисленный с помощью метода `astype()`.**"
   ]
  },
  {
   "cell_type": "code",
   "execution_count": 13,
   "id": "31036462",
   "metadata": {
    "deletable": false,
    "id": "31036462"
   },
   "outputs": [],
   "source": [
    "data['total_income'] = data['total_income'].astype(int)"
   ]
  },
  {
   "cell_type": "markdown",
   "id": "b8e3d1d9",
   "metadata": {
    "deletable": false,
    "editable": false,
    "id": "b8e3d1d9"
   },
   "source": [
    "### Обработка дубликатов"
   ]
  },
  {
   "cell_type": "markdown",
   "id": "9be53c49",
   "metadata": {
    "deletable": false,
    "editable": false,
    "id": "9be53c49"
   },
   "source": [
    "**Задание 14. Обработайте неявные дубликаты в столбце `education`. В этом столбце есть одни и те же значения, но записанные по-разному: с использованием заглавных и строчных букв. Приведите их к нижнему регистру.**"
   ]
  },
  {
   "cell_type": "code",
   "execution_count": 14,
   "id": "d89e73e1",
   "metadata": {
    "deletable": false,
    "id": "d89e73e1"
   },
   "outputs": [],
   "source": [
    "data['education'] = data['education'].str.lower()"
   ]
  },
  {
   "cell_type": "markdown",
   "id": "01d4500e",
   "metadata": {
    "deletable": false,
    "editable": false,
    "id": "01d4500e"
   },
   "source": [
    "**Задание 15. Выведите на экран количество строк-дубликатов в данных. Если такие строки присутствуют, удалите их.**"
   ]
  },
  {
   "cell_type": "code",
   "execution_count": 15,
   "id": "e10efb23",
   "metadata": {
    "deletable": false,
    "id": "e10efb23",
    "outputId": "9684deba-1934-42d1-99e1-cda61740f822"
   },
   "outputs": [
    {
     "data": {
      "text/plain": [
       "71"
      ]
     },
     "execution_count": 15,
     "metadata": {},
     "output_type": "execute_result"
    }
   ],
   "source": [
    "data.duplicated().sum()"
   ]
  },
  {
   "cell_type": "code",
   "execution_count": 16,
   "id": "df853f20",
   "metadata": {
    "deletable": false,
    "id": "df853f20"
   },
   "outputs": [],
   "source": [
    "data = data.drop_duplicates()"
   ]
  },
  {
   "cell_type": "markdown",
   "id": "627be38f",
   "metadata": {
    "deletable": false,
    "editable": false,
    "id": "627be38f"
   },
   "source": [
    "### Категоризация данных"
   ]
  },
  {
   "cell_type": "markdown",
   "id": "4684c3e0",
   "metadata": {
    "deletable": false,
    "editable": false,
    "id": "4684c3e0"
   },
   "source": [
    "**Задание 16. На основании диапазонов, указанных ниже, создайте в датафрейме `data` столбец `total_income_category` с категориями:**\n",
    "\n",
    "- 0–30000 — `'E'`;\n",
    "- 30001–50000 — `'D'`;\n",
    "- 50001–200000 — `'C'`;\n",
    "- 200001–1000000 — `'B'`;\n",
    "- 1000001 и выше — `'A'`.\n",
    "\n",
    "\n",
    "**Например, кредитополучателю с доходом 25000 нужно назначить категорию `'E'`, а клиенту, получающему 235000, — `'B'`. Используйте собственную функцию с именем `categorize_income()` и метод `apply()`.**"
   ]
  },
  {
   "cell_type": "code",
   "execution_count": 17,
   "id": "78965238",
   "metadata": {
    "deletable": false,
    "id": "78965238"
   },
   "outputs": [],
   "source": [
    "def categorize_income(income):\n",
    "    try:\n",
    "        if 0 <= income <= 30000:\n",
    "            return 'E'\n",
    "        elif 30001 <= income <= 50000:\n",
    "            return 'D'\n",
    "        elif 50001 <= income <= 200000:\n",
    "            return 'C'\n",
    "        elif 200001 <= income <= 1000000:\n",
    "            return 'B'\n",
    "        elif income >= 1000001:\n",
    "            return 'A'\n",
    "    except:\n",
    "        pass"
   ]
  },
  {
   "cell_type": "code",
   "execution_count": 18,
   "id": "0980ada1",
   "metadata": {
    "deletable": false,
    "id": "0980ada1"
   },
   "outputs": [],
   "source": [
    "data['total_income_category'] = data['total_income'].apply(categorize_income)"
   ]
  },
  {
   "cell_type": "markdown",
   "id": "9917bba0",
   "metadata": {
    "deletable": false,
    "editable": false,
    "id": "9917bba0"
   },
   "source": [
    "**Задание 17. Выведите на экран перечень уникальных целей взятия кредита из столбца `purpose`.**"
   ]
  },
  {
   "cell_type": "code",
   "execution_count": 19,
   "id": "ee07b65e",
   "metadata": {
    "deletable": false,
    "id": "ee07b65e",
    "outputId": "673c12d9-7d7e-4ae0-9812-c622c89dd244"
   },
   "outputs": [
    {
     "data": {
      "text/plain": [
       "array(['покупка жилья', 'приобретение автомобиля',\n",
       "       'дополнительное образование', 'сыграть свадьбу',\n",
       "       'операции с жильем', 'образование', 'на проведение свадьбы',\n",
       "       'покупка жилья для семьи', 'покупка недвижимости',\n",
       "       'покупка коммерческой недвижимости', 'покупка жилой недвижимости',\n",
       "       'строительство собственной недвижимости', 'недвижимость',\n",
       "       'строительство недвижимости', 'на покупку подержанного автомобиля',\n",
       "       'на покупку своего автомобиля',\n",
       "       'операции с коммерческой недвижимостью',\n",
       "       'строительство жилой недвижимости', 'жилье',\n",
       "       'операции со своей недвижимостью', 'автомобили',\n",
       "       'заняться образованием', 'сделка с подержанным автомобилем',\n",
       "       'получение образования', 'автомобиль', 'свадьба',\n",
       "       'получение дополнительного образования', 'покупка своего жилья',\n",
       "       'операции с недвижимостью', 'получение высшего образования',\n",
       "       'свой автомобиль', 'сделка с автомобилем',\n",
       "       'профильное образование', 'высшее образование',\n",
       "       'покупка жилья для сдачи', 'на покупку автомобиля', 'ремонт жилью',\n",
       "       'заняться высшим образованием'], dtype=object)"
      ]
     },
     "execution_count": 19,
     "metadata": {},
     "output_type": "execute_result"
    }
   ],
   "source": [
    "data['purpose'].unique()"
   ]
  },
  {
   "cell_type": "markdown",
   "id": "52b79d56",
   "metadata": {
    "deletable": false,
    "editable": false,
    "id": "52b79d56"
   },
   "source": [
    "**Задание 18. Создайте функцию, которая на основании данных из столбца `purpose` сформирует новый столбец `purpose_category`, в который войдут следующие категории:**\n",
    "\n",
    "- `'операции с автомобилем'`,\n",
    "- `'операции с недвижимостью'`,\n",
    "- `'проведение свадьбы'`,\n",
    "- `'получение образования'`.\n",
    "\n",
    "**Например, если в столбце `purpose` находится подстрока `'на покупку автомобиля'`, то в столбце `purpose_category` должна появиться строка `'операции с автомобилем'`.**\n",
    "\n",
    "**Используйте собственную функцию с именем `categorize_purpose()` и метод `apply()`. Изучите данные в столбце `purpose` и определите, какие подстроки помогут вам правильно определить категорию.**"
   ]
  },
  {
   "cell_type": "code",
   "execution_count": 20,
   "id": "be41da5d",
   "metadata": {
    "deletable": false,
    "id": "be41da5d"
   },
   "outputs": [],
   "source": [
    "def categorize_purpose(row):\n",
    "    try:\n",
    "        if 'автом' in row:\n",
    "            return 'операции с автомобилем'\n",
    "        elif 'жил' in row or 'недвиж' in row:\n",
    "            return 'операции с недвижимостью'\n",
    "        elif 'свад' in row:\n",
    "            return 'проведение свадьбы'\n",
    "        elif 'образов' in row:\n",
    "            return 'получение образования'\n",
    "    except:\n",
    "        return 'нет категории'"
   ]
  },
  {
   "cell_type": "code",
   "execution_count": 21,
   "id": "94c4a19a",
   "metadata": {
    "deletable": false,
    "id": "94c4a19a"
   },
   "outputs": [],
   "source": [
    "data['purpose_category'] = data['purpose'].apply(categorize_purpose)"
   ]
  },
  {
   "cell_type": "markdown",
   "id": "3d596c34",
   "metadata": {
    "deletable": false,
    "editable": false,
    "id": "3d596c34"
   },
   "source": [
    "### Шаг 3. Исследуйте данные и ответьте на вопросы"
   ]
  },
  {
   "cell_type": "markdown",
   "id": "648db036",
   "metadata": {
    "deletable": false,
    "editable": false,
    "id": "648db036"
   },
   "source": [
    "#### 3.1 Есть ли зависимость между количеством детей и возвратом кредита в срок?"
   ]
  },
  {
   "cell_type": "markdown",
   "id": "489485b8",
   "metadata": {},
   "source": [
    "Перед исследованием зависимости между количеством детей и способностью кредитора выполнять свои обязательства по кредиту,\n",
    "сформулирую некоторые тезисы.\n",
    "1) Люди без детей, менее ответственны к обязательствам по кредиту. Как правило, это категория одиноких граждан, либо молодых!\n",
    "   Данная категория, скорее более легкомысленная, безответственная, в целом импульсивная и менее склонна к планированию.\n",
    "   Люди которые скорее хотят всего и сразу, без дальнейших последствий.\n",
    "\n",
    "2) Люди с детьми (1 или 2 ребенка), более ответственно относятся к своим обязательствам по кредиту.\n",
    "   Данная категория здравомыслящая, ответственная, планирующая будущее для своих детей.\n",
    "\n",
    "3) Семьи с 3 и более детьми, самые безответственные по кредитным обязательствам.\n",
    "   Многодетные семьи имеют минимальный доход на одного члена в семье. Категория имеет больший риск непредвиденных расходов.\n",
    "   \n",
    " Проверка тезисов, даст нам необходимый вектор для дальнейших исследований.\n",
    "\n"
   ]
  },
  {
   "cell_type": "code",
   "execution_count": 22,
   "id": "872c9264",
   "metadata": {},
   "outputs": [
    {
     "name": "stdout",
     "output_type": "stream",
     "text": [
      "Доля просрочки по кредиту категории граждан без детей: 7.54 %\n",
      "Доля просрочки по кредиту категории граждан с детьми: 9.24 %\n"
     ]
    }
   ],
   "source": [
    "# Определяю долю просрочки по кредиту среди людей имеющих детей и бездетных.\n",
    "\n",
    "debt_no_children = round(100*data['debt'].loc[data['children'] == 0].mean(),2)\n",
    "debt_with_children = round(100*data['debt'].loc[data['children'] > 0].mean(),2)\n",
    "print('Доля просрочки по кредиту категории граждан без детей:', debt_no_children, '%' )\n",
    "print('Доля просрочки по кредиту категории граждан с детьми:', debt_with_children, '%' )"
   ]
  },
  {
   "cell_type": "markdown",
   "id": "b5a192f4",
   "metadata": {},
   "source": [
    "Вывод: Мои утверждения оказались не верными ;(\n",
    "       Категория граждан без детей, оказалась более ответственна к обязательствам по кредиту."
   ]
  },
  {
   "cell_type": "code",
   "execution_count": 23,
   "id": "d6cba82d",
   "metadata": {
    "scrolled": true
   },
   "outputs": [
    {
     "name": "stdout",
     "output_type": "stream",
     "text": [
      "Доля просрочки граждан у которых 0 детей, составляет: 7.5 %\n",
      "Доля просрочки граждан у которых 1 детей, составляет: 9.2 %\n",
      "Доля просрочки граждан у которых 2 детей, составляет: 9.5 %\n",
      "Доля просрочки граждан у которых 3 детей, составляет: 8.2 %\n",
      "Доля просрочки граждан у которых 4 детей, составляет: 9.8 %\n",
      "Доля просрочки граждан у которых 5 детей, составляет: 0.0 %\n"
     ]
    }
   ],
   "source": [
    "# Полная таблица зависимости количества детей к просрочке по кредиту, выглядит следующим образом:\n",
    "\n",
    "for i in range(6):\n",
    "    print('Доля просрочки граждан у которых',i,'детей, составляет:',\n",
    "    round(100*data['debt'].loc[data['children'] == i].mean(),1),'%')"
   ]
  },
  {
   "cell_type": "markdown",
   "id": "1c9c2207",
   "metadata": {},
   "source": [
    "Последняя строка таблицы с долей в 0%, скорее всего говорит об отсутствии статистики для граждан с 5ю детьми."
   ]
  },
  {
   "cell_type": "markdown",
   "id": "fd2a83a3",
   "metadata": {},
   "source": [
    "Создам в датафрейме дополнительный столбец для категоризации по количеству детей.\n",
    "\n",
    "Создам функцию категоризации по детям."
   ]
  },
  {
   "cell_type": "code",
   "execution_count": 24,
   "id": "5e3118d9",
   "metadata": {
    "deletable": false,
    "id": "7fcff25e",
    "scrolled": false
   },
   "outputs": [],
   "source": [
    "# Создаю функцию категоризазии по детям \n",
    "'''есть дети - 1 или 2 ребенка, \n",
    "   многодетный - более 3 детей'''\n",
    " \n",
    "def children_category(children):\n",
    "    if 1 <= children <= 2:\n",
    "        return 'есть дети'\n",
    "    if children >= 3:\n",
    "        return 'многодетный'\n",
    "    return 'нет детей'"
   ]
  },
  {
   "cell_type": "code",
   "execution_count": 25,
   "id": "8e14597e",
   "metadata": {},
   "outputs": [],
   "source": [
    "# Создаю столбец children_state\n",
    "\n",
    "data['children_state'] = data['children'].apply(children_category)"
   ]
  },
  {
   "cell_type": "code",
   "execution_count": 26,
   "id": "e768c53e",
   "metadata": {
    "scrolled": true
   },
   "outputs": [
    {
     "data": {
      "text/html": [
       "<div>\n",
       "<style scoped>\n",
       "    .dataframe tbody tr th:only-of-type {\n",
       "        vertical-align: middle;\n",
       "    }\n",
       "\n",
       "    .dataframe tbody tr th {\n",
       "        vertical-align: top;\n",
       "    }\n",
       "\n",
       "    .dataframe thead th {\n",
       "        text-align: right;\n",
       "    }\n",
       "</style>\n",
       "<table border=\"1\" class=\"dataframe\">\n",
       "  <thead>\n",
       "    <tr style=\"text-align: right;\">\n",
       "      <th></th>\n",
       "      <th>children</th>\n",
       "      <th>days_employed</th>\n",
       "      <th>dob_years</th>\n",
       "      <th>education</th>\n",
       "      <th>education_id</th>\n",
       "      <th>family_status</th>\n",
       "      <th>family_status_id</th>\n",
       "      <th>gender</th>\n",
       "      <th>income_type</th>\n",
       "      <th>debt</th>\n",
       "      <th>total_income</th>\n",
       "      <th>purpose</th>\n",
       "      <th>total_income_category</th>\n",
       "      <th>purpose_category</th>\n",
       "      <th>children_state</th>\n",
       "    </tr>\n",
       "  </thead>\n",
       "  <tbody>\n",
       "    <tr>\n",
       "      <th>0</th>\n",
       "      <td>1</td>\n",
       "      <td>8437.673028</td>\n",
       "      <td>42</td>\n",
       "      <td>высшее</td>\n",
       "      <td>0</td>\n",
       "      <td>женат / замужем</td>\n",
       "      <td>0</td>\n",
       "      <td>F</td>\n",
       "      <td>сотрудник</td>\n",
       "      <td>0</td>\n",
       "      <td>253875</td>\n",
       "      <td>покупка жилья</td>\n",
       "      <td>B</td>\n",
       "      <td>операции с недвижимостью</td>\n",
       "      <td>есть дети</td>\n",
       "    </tr>\n",
       "    <tr>\n",
       "      <th>1</th>\n",
       "      <td>1</td>\n",
       "      <td>4024.803754</td>\n",
       "      <td>36</td>\n",
       "      <td>среднее</td>\n",
       "      <td>1</td>\n",
       "      <td>женат / замужем</td>\n",
       "      <td>0</td>\n",
       "      <td>F</td>\n",
       "      <td>сотрудник</td>\n",
       "      <td>0</td>\n",
       "      <td>112080</td>\n",
       "      <td>приобретение автомобиля</td>\n",
       "      <td>C</td>\n",
       "      <td>операции с автомобилем</td>\n",
       "      <td>есть дети</td>\n",
       "    </tr>\n",
       "    <tr>\n",
       "      <th>2</th>\n",
       "      <td>0</td>\n",
       "      <td>5623.422610</td>\n",
       "      <td>33</td>\n",
       "      <td>среднее</td>\n",
       "      <td>1</td>\n",
       "      <td>женат / замужем</td>\n",
       "      <td>0</td>\n",
       "      <td>M</td>\n",
       "      <td>сотрудник</td>\n",
       "      <td>0</td>\n",
       "      <td>145885</td>\n",
       "      <td>покупка жилья</td>\n",
       "      <td>C</td>\n",
       "      <td>операции с недвижимостью</td>\n",
       "      <td>нет детей</td>\n",
       "    </tr>\n",
       "    <tr>\n",
       "      <th>3</th>\n",
       "      <td>3</td>\n",
       "      <td>4124.747207</td>\n",
       "      <td>32</td>\n",
       "      <td>среднее</td>\n",
       "      <td>1</td>\n",
       "      <td>женат / замужем</td>\n",
       "      <td>0</td>\n",
       "      <td>M</td>\n",
       "      <td>сотрудник</td>\n",
       "      <td>0</td>\n",
       "      <td>267628</td>\n",
       "      <td>дополнительное образование</td>\n",
       "      <td>B</td>\n",
       "      <td>получение образования</td>\n",
       "      <td>многодетный</td>\n",
       "    </tr>\n",
       "    <tr>\n",
       "      <th>4</th>\n",
       "      <td>0</td>\n",
       "      <td>340266.072047</td>\n",
       "      <td>53</td>\n",
       "      <td>среднее</td>\n",
       "      <td>1</td>\n",
       "      <td>гражданский брак</td>\n",
       "      <td>1</td>\n",
       "      <td>F</td>\n",
       "      <td>пенсионер</td>\n",
       "      <td>0</td>\n",
       "      <td>158616</td>\n",
       "      <td>сыграть свадьбу</td>\n",
       "      <td>C</td>\n",
       "      <td>проведение свадьбы</td>\n",
       "      <td>нет детей</td>\n",
       "    </tr>\n",
       "  </tbody>\n",
       "</table>\n",
       "</div>"
      ],
      "text/plain": [
       "   children  days_employed  dob_years education  education_id  \\\n",
       "0         1    8437.673028         42    высшее             0   \n",
       "1         1    4024.803754         36   среднее             1   \n",
       "2         0    5623.422610         33   среднее             1   \n",
       "3         3    4124.747207         32   среднее             1   \n",
       "4         0  340266.072047         53   среднее             1   \n",
       "\n",
       "      family_status  family_status_id gender income_type  debt  total_income  \\\n",
       "0   женат / замужем                 0      F   сотрудник     0        253875   \n",
       "1   женат / замужем                 0      F   сотрудник     0        112080   \n",
       "2   женат / замужем                 0      M   сотрудник     0        145885   \n",
       "3   женат / замужем                 0      M   сотрудник     0        267628   \n",
       "4  гражданский брак                 1      F   пенсионер     0        158616   \n",
       "\n",
       "                      purpose total_income_category          purpose_category  \\\n",
       "0               покупка жилья                     B  операции с недвижимостью   \n",
       "1     приобретение автомобиля                     C    операции с автомобилем   \n",
       "2               покупка жилья                     C  операции с недвижимостью   \n",
       "3  дополнительное образование                     B     получение образования   \n",
       "4             сыграть свадьбу                     C        проведение свадьбы   \n",
       "\n",
       "  children_state  \n",
       "0      есть дети  \n",
       "1      есть дети  \n",
       "2      нет детей  \n",
       "3    многодетный  \n",
       "4      нет детей  "
      ]
     },
     "execution_count": 26,
     "metadata": {},
     "output_type": "execute_result"
    }
   ],
   "source": [
    "# Проверяю результат.\n",
    "\n",
    "data.head()"
   ]
  },
  {
   "cell_type": "code",
   "execution_count": 27,
   "id": "9a597a76",
   "metadata": {},
   "outputs": [],
   "source": [
    "# Для упрощения исследования, создаю таблицу с нужными мне столбцами.\n",
    "\n",
    "debt_children = data[['children', 'debt', 'children_state']]"
   ]
  },
  {
   "cell_type": "code",
   "execution_count": 28,
   "id": "2e41b335",
   "metadata": {
    "scrolled": false
   },
   "outputs": [
    {
     "data": {
      "text/html": [
       "<div>\n",
       "<style scoped>\n",
       "    .dataframe tbody tr th:only-of-type {\n",
       "        vertical-align: middle;\n",
       "    }\n",
       "\n",
       "    .dataframe tbody tr th {\n",
       "        vertical-align: top;\n",
       "    }\n",
       "\n",
       "    .dataframe thead th {\n",
       "        text-align: right;\n",
       "    }\n",
       "</style>\n",
       "<table border=\"1\" class=\"dataframe\">\n",
       "  <thead>\n",
       "    <tr style=\"text-align: right;\">\n",
       "      <th></th>\n",
       "      <th>children</th>\n",
       "      <th>debt</th>\n",
       "      <th>children_state</th>\n",
       "    </tr>\n",
       "  </thead>\n",
       "  <tbody>\n",
       "    <tr>\n",
       "      <th>21520</th>\n",
       "      <td>1</td>\n",
       "      <td>0</td>\n",
       "      <td>есть дети</td>\n",
       "    </tr>\n",
       "    <tr>\n",
       "      <th>21521</th>\n",
       "      <td>0</td>\n",
       "      <td>0</td>\n",
       "      <td>нет детей</td>\n",
       "    </tr>\n",
       "    <tr>\n",
       "      <th>21522</th>\n",
       "      <td>1</td>\n",
       "      <td>1</td>\n",
       "      <td>есть дети</td>\n",
       "    </tr>\n",
       "    <tr>\n",
       "      <th>21523</th>\n",
       "      <td>3</td>\n",
       "      <td>1</td>\n",
       "      <td>многодетный</td>\n",
       "    </tr>\n",
       "    <tr>\n",
       "      <th>21524</th>\n",
       "      <td>2</td>\n",
       "      <td>0</td>\n",
       "      <td>есть дети</td>\n",
       "    </tr>\n",
       "  </tbody>\n",
       "</table>\n",
       "</div>"
      ],
      "text/plain": [
       "       children  debt children_state\n",
       "21520         1     0      есть дети\n",
       "21521         0     0      нет детей\n",
       "21522         1     1      есть дети\n",
       "21523         3     1    многодетный\n",
       "21524         2     0      есть дети"
      ]
     },
     "execution_count": 28,
     "metadata": {},
     "output_type": "execute_result"
    }
   ],
   "source": [
    "# Проверяю результат.\n",
    "\n",
    "debt_children.tail()"
   ]
  },
  {
   "cell_type": "markdown",
   "id": "05f6208f",
   "metadata": {},
   "source": [
    "Создаю сводную таблицу. "
   ]
  },
  {
   "cell_type": "code",
   "execution_count": 29,
   "id": "e242dc57",
   "metadata": {},
   "outputs": [],
   "source": [
    "# Создаю таблицу методом pivot_table().\n",
    "\n",
    "debt_children = data.pivot_table(index='children_state', columns='debt', values='gender', aggfunc='count')"
   ]
  },
  {
   "cell_type": "code",
   "execution_count": 30,
   "id": "71b3e2de",
   "metadata": {},
   "outputs": [],
   "source": [
    "# Создаю столбцы таблицы.\n",
    "\n",
    "debt_children.columns = ['no_debt', 'debt']"
   ]
  },
  {
   "cell_type": "code",
   "execution_count": 31,
   "id": "34f4c215",
   "metadata": {},
   "outputs": [],
   "source": [
    "# Считаю [долю должников].\n",
    "\n",
    "debt_children['share_of_debt'] = debt_children['debt'] / (debt_children['debt'] + debt_children['no_debt'])"
   ]
  },
  {
   "cell_type": "code",
   "execution_count": 32,
   "id": "d78321da",
   "metadata": {},
   "outputs": [],
   "source": [
    "# Перевожу значения в столбце [доля дожников] в проценты.\n",
    "\n",
    "debt_children['share_of_debt'] = debt_children['share_of_debt'].map('{:.1%}'.format)"
   ]
  },
  {
   "cell_type": "code",
   "execution_count": 33,
   "id": "dfd49f2f",
   "metadata": {},
   "outputs": [
    {
     "data": {
      "text/html": [
       "<div>\n",
       "<style scoped>\n",
       "    .dataframe tbody tr th:only-of-type {\n",
       "        vertical-align: middle;\n",
       "    }\n",
       "\n",
       "    .dataframe tbody tr th {\n",
       "        vertical-align: top;\n",
       "    }\n",
       "\n",
       "    .dataframe thead th {\n",
       "        text-align: right;\n",
       "    }\n",
       "</style>\n",
       "<table border=\"1\" class=\"dataframe\">\n",
       "  <thead>\n",
       "    <tr style=\"text-align: right;\">\n",
       "      <th></th>\n",
       "      <th>no_debt</th>\n",
       "      <th>debt</th>\n",
       "      <th>share_of_debt</th>\n",
       "    </tr>\n",
       "    <tr>\n",
       "      <th>children_state</th>\n",
       "      <th></th>\n",
       "      <th></th>\n",
       "      <th></th>\n",
       "    </tr>\n",
       "  </thead>\n",
       "  <tbody>\n",
       "    <tr>\n",
       "      <th>есть дети</th>\n",
       "      <td>6222</td>\n",
       "      <td>638</td>\n",
       "      <td>9.3%</td>\n",
       "    </tr>\n",
       "    <tr>\n",
       "      <th>многодетный</th>\n",
       "      <td>349</td>\n",
       "      <td>31</td>\n",
       "      <td>8.2%</td>\n",
       "    </tr>\n",
       "    <tr>\n",
       "      <th>нет детей</th>\n",
       "      <td>13028</td>\n",
       "      <td>1063</td>\n",
       "      <td>7.5%</td>\n",
       "    </tr>\n",
       "  </tbody>\n",
       "</table>\n",
       "</div>"
      ],
      "text/plain": [
       "                no_debt  debt share_of_debt\n",
       "children_state                             \n",
       "есть дети          6222   638          9.3%\n",
       "многодетный         349    31          8.2%\n",
       "нет детей         13028  1063          7.5%"
      ]
     },
     "execution_count": 33,
     "metadata": {},
     "output_type": "execute_result"
    }
   ],
   "source": [
    "# Сортирую по столбцу [доля должников], по убыванию.\n",
    "\n",
    "debt_children.sort_values(by='share_of_debt', ascending=False)"
   ]
  },
  {
   "cell_type": "markdown",
   "id": "750870fa",
   "metadata": {},
   "source": [
    "<div class=\"alert alert-success\"; style=\"border-left: 7px solid green\">\n",
    "<h5> ✔️ <font color=\"green\">Комментарий ревьюера (зеленый)</font></h5>\n",
    "\n",
    "Да, у заемщиков с детьми больше вероятность просрочки\n",
    "\n",
    "</div>"
   ]
  },
  {
   "cell_type": "markdown",
   "id": "ebd59080",
   "metadata": {
    "deletable": false,
    "id": "2eb9088e"
   },
   "source": [
    "Вывод: Из таблиц видим следующий результат: категория граждан у которых есть дети, наиболее подвержена риску по кредитным обязательствам. С увеличение количества детей, увеличивается количество просроченных задолженностей по кредиту.\n",
    "Причем семьи с 3 детьми, более ответственно относятся к кредитным обязательствам, чем семьи с 1 или 2 детьми.\n"
   ]
  },
  {
   "cell_type": "markdown",
   "id": "74c9b3a7",
   "metadata": {
    "deletable": false,
    "editable": false,
    "id": "74c9b3a7"
   },
   "source": [
    "#### 3.2 Есть ли зависимость между семейным положением и возвратом кредита в срок?"
   ]
  },
  {
   "cell_type": "code",
   "execution_count": 34,
   "id": "27ebf7cf",
   "metadata": {},
   "outputs": [],
   "source": [
    "# Для упрощения исследования, создаю таблицу с нужными мне столбцами.\n",
    "\n",
    "debt_family_status = data[['children', 'debt', 'children_state', 'family_status']]"
   ]
  },
  {
   "cell_type": "code",
   "execution_count": 35,
   "id": "8098ab3b",
   "metadata": {
    "deletable": false,
    "id": "8098ab3b"
   },
   "outputs": [
    {
     "data": {
      "text/html": [
       "<div>\n",
       "<style scoped>\n",
       "    .dataframe tbody tr th:only-of-type {\n",
       "        vertical-align: middle;\n",
       "    }\n",
       "\n",
       "    .dataframe tbody tr th {\n",
       "        vertical-align: top;\n",
       "    }\n",
       "\n",
       "    .dataframe thead th {\n",
       "        text-align: right;\n",
       "    }\n",
       "</style>\n",
       "<table border=\"1\" class=\"dataframe\">\n",
       "  <thead>\n",
       "    <tr style=\"text-align: right;\">\n",
       "      <th></th>\n",
       "      <th>children</th>\n",
       "      <th>debt</th>\n",
       "      <th>children_state</th>\n",
       "      <th>family_status</th>\n",
       "    </tr>\n",
       "  </thead>\n",
       "  <tbody>\n",
       "    <tr>\n",
       "      <th>21515</th>\n",
       "      <td>1</td>\n",
       "      <td>1</td>\n",
       "      <td>есть дети</td>\n",
       "      <td>женат / замужем</td>\n",
       "    </tr>\n",
       "    <tr>\n",
       "      <th>21516</th>\n",
       "      <td>0</td>\n",
       "      <td>0</td>\n",
       "      <td>нет детей</td>\n",
       "      <td>женат / замужем</td>\n",
       "    </tr>\n",
       "    <tr>\n",
       "      <th>21517</th>\n",
       "      <td>0</td>\n",
       "      <td>0</td>\n",
       "      <td>нет детей</td>\n",
       "      <td>гражданский брак</td>\n",
       "    </tr>\n",
       "    <tr>\n",
       "      <th>21518</th>\n",
       "      <td>0</td>\n",
       "      <td>0</td>\n",
       "      <td>нет детей</td>\n",
       "      <td>женат / замужем</td>\n",
       "    </tr>\n",
       "    <tr>\n",
       "      <th>21519</th>\n",
       "      <td>1</td>\n",
       "      <td>0</td>\n",
       "      <td>есть дети</td>\n",
       "      <td>в разводе</td>\n",
       "    </tr>\n",
       "    <tr>\n",
       "      <th>21520</th>\n",
       "      <td>1</td>\n",
       "      <td>0</td>\n",
       "      <td>есть дети</td>\n",
       "      <td>гражданский брак</td>\n",
       "    </tr>\n",
       "    <tr>\n",
       "      <th>21521</th>\n",
       "      <td>0</td>\n",
       "      <td>0</td>\n",
       "      <td>нет детей</td>\n",
       "      <td>женат / замужем</td>\n",
       "    </tr>\n",
       "    <tr>\n",
       "      <th>21522</th>\n",
       "      <td>1</td>\n",
       "      <td>1</td>\n",
       "      <td>есть дети</td>\n",
       "      <td>гражданский брак</td>\n",
       "    </tr>\n",
       "    <tr>\n",
       "      <th>21523</th>\n",
       "      <td>3</td>\n",
       "      <td>1</td>\n",
       "      <td>многодетный</td>\n",
       "      <td>женат / замужем</td>\n",
       "    </tr>\n",
       "    <tr>\n",
       "      <th>21524</th>\n",
       "      <td>2</td>\n",
       "      <td>0</td>\n",
       "      <td>есть дети</td>\n",
       "      <td>женат / замужем</td>\n",
       "    </tr>\n",
       "  </tbody>\n",
       "</table>\n",
       "</div>"
      ],
      "text/plain": [
       "       children  debt children_state     family_status\n",
       "21515         1     1      есть дети   женат / замужем\n",
       "21516         0     0      нет детей   женат / замужем\n",
       "21517         0     0      нет детей  гражданский брак\n",
       "21518         0     0      нет детей   женат / замужем\n",
       "21519         1     0      есть дети         в разводе\n",
       "21520         1     0      есть дети  гражданский брак\n",
       "21521         0     0      нет детей   женат / замужем\n",
       "21522         1     1      есть дети  гражданский брак\n",
       "21523         3     1    многодетный   женат / замужем\n",
       "21524         2     0      есть дети   женат / замужем"
      ]
     },
     "execution_count": 35,
     "metadata": {},
     "output_type": "execute_result"
    }
   ],
   "source": [
    "# Проверяю результат.\n",
    "\n",
    "debt_family_status.tail(10)"
   ]
  },
  {
   "cell_type": "code",
   "execution_count": 36,
   "id": "ae814a22",
   "metadata": {},
   "outputs": [
    {
     "name": "stdout",
     "output_type": "stream",
     "text": [
      "Доля просрочки по кредиту в категории \" женат / замужем \"   составляет: 7.6 %\n",
      "Доля просрочки по кредиту в категории \" гражданский брак \"   составляет: 9.3 %\n",
      "Доля просрочки по кредиту в категории \" вдовец / вдова \"   составляет: 6.6 %\n",
      "Доля просрочки по кредиту в категории \" в разводе \"   составляет: 7.1 %\n",
      "Доля просрочки по кредиту в категории \" Не женат / не замужем \"   составляет: 9.8 %\n"
     ]
    }
   ],
   "source": [
    "# Определяю долю просрочки по кредиту в категориях [family_status].\n",
    "\n",
    "for i in data['family_status'].unique():\n",
    "    print('Доля просрочки по кредиту в категории \"',i,'\"   составляет:',\n",
    "    round(100*data['debt'].loc[data['family_status'] == i].mean(),1),'%')"
   ]
  },
  {
   "cell_type": "markdown",
   "id": "06c171db",
   "metadata": {},
   "source": [
    "Самыми надежными категориями по кредитным обязательствам, являются граждане \" в разводе \" и \" вдовец / вдова \", \n",
    "наименее надежными кредиторами являются граждане состоящие в категории \" гражданский брак \" и \" не женат / не замужем \", \n",
    "медианное значение за категорией \" женат / замужем \"."
   ]
  },
  {
   "cell_type": "markdown",
   "id": "53617676",
   "metadata": {},
   "source": [
    "Создаю сводную таблицу."
   ]
  },
  {
   "cell_type": "code",
   "execution_count": 37,
   "id": "0bfabe2d",
   "metadata": {},
   "outputs": [],
   "source": [
    "# Создаю таблицу методом pivot_table()\n",
    "\n",
    "debt_family_status = data.pivot_table(index='family_status', columns='debt', values='gender', aggfunc='count')"
   ]
  },
  {
   "cell_type": "code",
   "execution_count": 38,
   "id": "54bb2e85",
   "metadata": {},
   "outputs": [],
   "source": [
    "# Создаю столбцы таблицы.\n",
    "\n",
    "debt_family_status.columns = ['no_debt', 'debt']"
   ]
  },
  {
   "cell_type": "code",
   "execution_count": 39,
   "id": "c0444c5c",
   "metadata": {},
   "outputs": [],
   "source": [
    "# Считаю [долю должников].\n",
    "\n",
    "debt_family_status['share_of_debt'] = debt_family_status['debt'] / (debt_family_status['debt'] + \n",
    "                                                                    debt_family_status['no_debt'])"
   ]
  },
  {
   "cell_type": "code",
   "execution_count": 40,
   "id": "f82636ff",
   "metadata": {},
   "outputs": [],
   "source": [
    "# Перевожу значения в столбце [доля дожников] в проценты.\n",
    "\n",
    "debt_family_status['share_of_debt'] = debt_family_status['share_of_debt'].map('{:.1%}'.format)"
   ]
  },
  {
   "cell_type": "code",
   "execution_count": 41,
   "id": "f822570b",
   "metadata": {},
   "outputs": [
    {
     "data": {
      "text/html": [
       "<div>\n",
       "<style scoped>\n",
       "    .dataframe tbody tr th:only-of-type {\n",
       "        vertical-align: middle;\n",
       "    }\n",
       "\n",
       "    .dataframe tbody tr th {\n",
       "        vertical-align: top;\n",
       "    }\n",
       "\n",
       "    .dataframe thead th {\n",
       "        text-align: right;\n",
       "    }\n",
       "</style>\n",
       "<table border=\"1\" class=\"dataframe\">\n",
       "  <thead>\n",
       "    <tr style=\"text-align: right;\">\n",
       "      <th></th>\n",
       "      <th>no_debt</th>\n",
       "      <th>debt</th>\n",
       "      <th>share_of_debt</th>\n",
       "    </tr>\n",
       "    <tr>\n",
       "      <th>family_status</th>\n",
       "      <th></th>\n",
       "      <th></th>\n",
       "      <th></th>\n",
       "    </tr>\n",
       "  </thead>\n",
       "  <tbody>\n",
       "    <tr>\n",
       "      <th>Не женат / не замужем</th>\n",
       "      <td>2523</td>\n",
       "      <td>273</td>\n",
       "      <td>9.8%</td>\n",
       "    </tr>\n",
       "    <tr>\n",
       "      <th>гражданский брак</th>\n",
       "      <td>3749</td>\n",
       "      <td>385</td>\n",
       "      <td>9.3%</td>\n",
       "    </tr>\n",
       "    <tr>\n",
       "      <th>женат / замужем</th>\n",
       "      <td>11334</td>\n",
       "      <td>927</td>\n",
       "      <td>7.6%</td>\n",
       "    </tr>\n",
       "    <tr>\n",
       "      <th>в разводе</th>\n",
       "      <td>1105</td>\n",
       "      <td>84</td>\n",
       "      <td>7.1%</td>\n",
       "    </tr>\n",
       "    <tr>\n",
       "      <th>вдовец / вдова</th>\n",
       "      <td>888</td>\n",
       "      <td>63</td>\n",
       "      <td>6.6%</td>\n",
       "    </tr>\n",
       "  </tbody>\n",
       "</table>\n",
       "</div>"
      ],
      "text/plain": [
       "                       no_debt  debt share_of_debt\n",
       "family_status                                     \n",
       "Не женат / не замужем     2523   273          9.8%\n",
       "гражданский брак          3749   385          9.3%\n",
       "женат / замужем          11334   927          7.6%\n",
       "в разводе                 1105    84          7.1%\n",
       "вдовец / вдова             888    63          6.6%"
      ]
     },
     "execution_count": 41,
     "metadata": {},
     "output_type": "execute_result"
    }
   ],
   "source": [
    "# Сортирую по столбцу [доля лолжников] по убыванию.\n",
    "\n",
    "debt_family_status.sort_values(by='share_of_debt', ascending=False)"
   ]
  },
  {
   "cell_type": "markdown",
   "id": "67d4e55f",
   "metadata": {},
   "source": [
    "<div class=\"alert alert-success\"; style=\"border-left: 7px solid green\">\n",
    "<h5> ✔️ <font color=\"green\">Комментарий ревьюера (зеленый)</font></h5>\n",
    "\n",
    "Правильно, заемщики состоящие или состоявшие в браке реже допускают просрочку\n",
    "\n",
    "</div>"
   ]
  },
  {
   "cell_type": "markdown",
   "id": "89fc9907",
   "metadata": {
    "deletable": false,
    "id": "c389ca63"
   },
   "source": [
    "**Вывод:** Не женатые и не замужние, а так же граждане состоящие в гражданском браке, более всего подвержены риску долга по кредитным обязательствам. Могу предположить, что это связано с меньшей ответственностью за семейные ценности. Граждане данных категорий не имеют совместных семейных накоплений и более развязаны по финансам, что в итоге может привести к неплатежам по кредиту.\n"
   ]
  },
  {
   "cell_type": "markdown",
   "id": "9529de68",
   "metadata": {
    "deletable": false,
    "editable": false,
    "id": "9529de68"
   },
   "source": [
    "#### 3.3 Есть ли зависимость между уровнем дохода и возвратом кредита в срок?"
   ]
  },
  {
   "cell_type": "markdown",
   "id": "1f09052a",
   "metadata": {
    "deletable": false,
    "id": "8787f44a"
   },
   "source": [
    "Категоризация по уровню дохода:\n",
    "\n",
    "- 0–30000 — `'E'`;\n",
    "- 30001–50000 — `'D'`;\n",
    "- 50001–200000 — `'C'`;\n",
    "- 200001–1000000 — `'B'`;\n",
    "- 1000001 и выше — `'A'`.\n"
   ]
  },
  {
   "cell_type": "code",
   "execution_count": 42,
   "id": "7c0976ad",
   "metadata": {},
   "outputs": [],
   "source": [
    "# Создаю таблицу с нужными мне столбцами.\n",
    "\n",
    "debt_total_income_category = data[['debt', 'total_income', 'total_income_category']]"
   ]
  },
  {
   "cell_type": "code",
   "execution_count": 43,
   "id": "5fef5204",
   "metadata": {},
   "outputs": [
    {
     "data": {
      "text/html": [
       "<div>\n",
       "<style scoped>\n",
       "    .dataframe tbody tr th:only-of-type {\n",
       "        vertical-align: middle;\n",
       "    }\n",
       "\n",
       "    .dataframe tbody tr th {\n",
       "        vertical-align: top;\n",
       "    }\n",
       "\n",
       "    .dataframe thead th {\n",
       "        text-align: right;\n",
       "    }\n",
       "</style>\n",
       "<table border=\"1\" class=\"dataframe\">\n",
       "  <thead>\n",
       "    <tr style=\"text-align: right;\">\n",
       "      <th></th>\n",
       "      <th>debt</th>\n",
       "      <th>total_income</th>\n",
       "      <th>total_income_category</th>\n",
       "    </tr>\n",
       "  </thead>\n",
       "  <tbody>\n",
       "    <tr>\n",
       "      <th>21515</th>\n",
       "      <td>1</td>\n",
       "      <td>109486</td>\n",
       "      <td>C</td>\n",
       "    </tr>\n",
       "    <tr>\n",
       "      <th>21516</th>\n",
       "      <td>0</td>\n",
       "      <td>322807</td>\n",
       "      <td>B</td>\n",
       "    </tr>\n",
       "    <tr>\n",
       "      <th>21517</th>\n",
       "      <td>0</td>\n",
       "      <td>178059</td>\n",
       "      <td>C</td>\n",
       "    </tr>\n",
       "    <tr>\n",
       "      <th>21518</th>\n",
       "      <td>0</td>\n",
       "      <td>153864</td>\n",
       "      <td>C</td>\n",
       "    </tr>\n",
       "    <tr>\n",
       "      <th>21519</th>\n",
       "      <td>0</td>\n",
       "      <td>115949</td>\n",
       "      <td>C</td>\n",
       "    </tr>\n",
       "    <tr>\n",
       "      <th>21520</th>\n",
       "      <td>0</td>\n",
       "      <td>224791</td>\n",
       "      <td>B</td>\n",
       "    </tr>\n",
       "    <tr>\n",
       "      <th>21521</th>\n",
       "      <td>0</td>\n",
       "      <td>155999</td>\n",
       "      <td>C</td>\n",
       "    </tr>\n",
       "    <tr>\n",
       "      <th>21522</th>\n",
       "      <td>1</td>\n",
       "      <td>89672</td>\n",
       "      <td>C</td>\n",
       "    </tr>\n",
       "    <tr>\n",
       "      <th>21523</th>\n",
       "      <td>1</td>\n",
       "      <td>244093</td>\n",
       "      <td>B</td>\n",
       "    </tr>\n",
       "    <tr>\n",
       "      <th>21524</th>\n",
       "      <td>0</td>\n",
       "      <td>82047</td>\n",
       "      <td>C</td>\n",
       "    </tr>\n",
       "  </tbody>\n",
       "</table>\n",
       "</div>"
      ],
      "text/plain": [
       "       debt  total_income total_income_category\n",
       "21515     1        109486                     C\n",
       "21516     0        322807                     B\n",
       "21517     0        178059                     C\n",
       "21518     0        153864                     C\n",
       "21519     0        115949                     C\n",
       "21520     0        224791                     B\n",
       "21521     0        155999                     C\n",
       "21522     1         89672                     C\n",
       "21523     1        244093                     B\n",
       "21524     0         82047                     C"
      ]
     },
     "execution_count": 43,
     "metadata": {},
     "output_type": "execute_result"
    }
   ],
   "source": [
    "# Проверяю результат.\n",
    "\n",
    "debt_total_income_category.tail(10)"
   ]
  },
  {
   "cell_type": "code",
   "execution_count": 44,
   "id": "35d27d72",
   "metadata": {},
   "outputs": [
    {
     "name": "stdout",
     "output_type": "stream",
     "text": [
      "Доля просрочки по кредиту в категории \" B \"   составляет: 7.1 %\n",
      "Доля просрочки по кредиту в категории \" C \"   составляет: 8.5 %\n",
      "Доля просрочки по кредиту в категории \" D \"   составляет: 6.0 %\n",
      "Доля просрочки по кредиту в категории \" E \"   составляет: 9.1 %\n",
      "Доля просрочки по кредиту в категории \" A \"   составляет: 8.0 %\n"
     ]
    }
   ],
   "source": [
    "# Провожу анализ зависимости своевременных кредитных обязательств от уровня дохода.\n",
    "\n",
    "for i in data['total_income_category'].unique():\n",
    "    print('Доля просрочки по кредиту в категории \"',i,'\"   составляет:',\n",
    "    round(100*data['debt'].loc[data['total_income_category'] == i].mean(),1),'%')"
   ]
  },
  {
   "cell_type": "markdown",
   "id": "55dfb6c3",
   "metadata": {},
   "source": [
    "Создаю сводную таблицу."
   ]
  },
  {
   "cell_type": "code",
   "execution_count": 45,
   "id": "d871451b",
   "metadata": {},
   "outputs": [],
   "source": [
    "# Создаю таблицу методом pivot().\n",
    "\n",
    "debt_total_income = data.pivot_table(index='total_income_category', columns='debt', values='gender', aggfunc='count')"
   ]
  },
  {
   "cell_type": "code",
   "execution_count": 46,
   "id": "a5bf2042",
   "metadata": {},
   "outputs": [],
   "source": [
    "# Создаю столбцы таблицы.\n",
    "\n",
    "debt_total_income.columns = ['no_debt', 'debt']"
   ]
  },
  {
   "cell_type": "code",
   "execution_count": 47,
   "id": "7efae67f",
   "metadata": {},
   "outputs": [],
   "source": [
    "# Считаю [долю должников].\n",
    "\n",
    "debt_total_income['share_of_debt'] = debt_total_income['debt'] / (debt_total_income['debt'] + debt_total_income['no_debt'])"
   ]
  },
  {
   "cell_type": "code",
   "execution_count": 48,
   "id": "3277b918",
   "metadata": {},
   "outputs": [],
   "source": [
    "# Перевожу значения в столбце [доля дожников] в проценты.\n",
    "\n",
    "debt_total_income['share_of_debt'] = debt_total_income['share_of_debt'].map('{:.1%}'.format)"
   ]
  },
  {
   "cell_type": "code",
   "execution_count": 49,
   "id": "1ab091c9",
   "metadata": {},
   "outputs": [
    {
     "data": {
      "text/html": [
       "<div>\n",
       "<style scoped>\n",
       "    .dataframe tbody tr th:only-of-type {\n",
       "        vertical-align: middle;\n",
       "    }\n",
       "\n",
       "    .dataframe tbody tr th {\n",
       "        vertical-align: top;\n",
       "    }\n",
       "\n",
       "    .dataframe thead th {\n",
       "        text-align: right;\n",
       "    }\n",
       "</style>\n",
       "<table border=\"1\" class=\"dataframe\">\n",
       "  <thead>\n",
       "    <tr style=\"text-align: right;\">\n",
       "      <th></th>\n",
       "      <th>no_debt</th>\n",
       "      <th>debt</th>\n",
       "      <th>share_of_debt</th>\n",
       "    </tr>\n",
       "    <tr>\n",
       "      <th>total_income_category</th>\n",
       "      <th></th>\n",
       "      <th></th>\n",
       "      <th></th>\n",
       "    </tr>\n",
       "  </thead>\n",
       "  <tbody>\n",
       "    <tr>\n",
       "      <th>E</th>\n",
       "      <td>20</td>\n",
       "      <td>2</td>\n",
       "      <td>9.1%</td>\n",
       "    </tr>\n",
       "    <tr>\n",
       "      <th>C</th>\n",
       "      <td>14568</td>\n",
       "      <td>1353</td>\n",
       "      <td>8.5%</td>\n",
       "    </tr>\n",
       "    <tr>\n",
       "      <th>A</th>\n",
       "      <td>23</td>\n",
       "      <td>2</td>\n",
       "      <td>8.0%</td>\n",
       "    </tr>\n",
       "    <tr>\n",
       "      <th>B</th>\n",
       "      <td>4660</td>\n",
       "      <td>354</td>\n",
       "      <td>7.1%</td>\n",
       "    </tr>\n",
       "    <tr>\n",
       "      <th>D</th>\n",
       "      <td>328</td>\n",
       "      <td>21</td>\n",
       "      <td>6.0%</td>\n",
       "    </tr>\n",
       "  </tbody>\n",
       "</table>\n",
       "</div>"
      ],
      "text/plain": [
       "                       no_debt  debt share_of_debt\n",
       "total_income_category                             \n",
       "E                           20     2          9.1%\n",
       "C                        14568  1353          8.5%\n",
       "A                           23     2          8.0%\n",
       "B                         4660   354          7.1%\n",
       "D                          328    21          6.0%"
      ]
     },
     "execution_count": 49,
     "metadata": {},
     "output_type": "execute_result"
    }
   ],
   "source": [
    "# Сортирую по столбцу [доля лолжников] по убыванию.\n",
    "\n",
    "debt_total_income.sort_values(by='share_of_debt', ascending=False)"
   ]
  },
  {
   "cell_type": "markdown",
   "id": "445e629a",
   "metadata": {},
   "source": [
    "<div class=\"alert alert-success\"; style=\"border-left: 7px solid green\">\n",
    "<h5> ✔️ <font color=\"green\">Комментарий ревьюера (зеленый)</font></h5>\n",
    "\n",
    "Спасибо за интересные наблюдения, на малочисленные категории заемщиков(А, D, E) ориентироваться не стоит, поэтому можно предположить, что более состоятельный клиент - более надежный\n",
    "\n",
    "</div>"
   ]
  },
  {
   "cell_type": "markdown",
   "id": "6dd14b57",
   "metadata": {
    "deletable": false,
    "id": "6dd14b57"
   },
   "source": [
    "**Вывод:** При рассмотрении данных таблиц, вижу следующий результат: категория граждан \"С\", наиболее подвержена риску стать должниками по кредитным обязательствам. Однако у данной категории не самый высокий процент по должникам.\n",
    "Для более точного вывода, нужно использовать репрезентативные выборки категории граждан. Необходимым условием построения репрезентативной выборки является равная вероятность включения в нее каждого элемента множества обьектов, в отношении которых формируется исследовательская гипотеза. Категории E, и A не рассмамтриваю из-за маленькой выборки. Вывод делаю опираясь на результаты категорий C, D и B. Соответственно  при рассмотрении данных категорий вижу, что граждане категории C, имеют наибольший риск стать должниками по кредитным обязательствам и не выплачивать кредиты в срок,это может обьясняться тем что основная масса граждан этой категории имеют не один кредит на руках.Граждане категории D - имеют наименьший риск стать должниками, возможно опасаясь штрафных санкций по просрочкам кредитных обязательств."
   ]
  },
  {
   "cell_type": "markdown",
   "id": "1dcc9b12",
   "metadata": {
    "deletable": false,
    "editable": false,
    "id": "1dcc9b12"
   },
   "source": [
    "#### 3.4 Как разные цели кредита влияют на его возврат в срок?"
   ]
  },
  {
   "cell_type": "code",
   "execution_count": 50,
   "id": "c602bc8b",
   "metadata": {
    "deletable": false,
    "id": "c602bc8b"
   },
   "outputs": [
    {
     "name": "stdout",
     "output_type": "stream",
     "text": [
      "Доля несвоевременного возврата кредита в категории \" операции с недвижимостью \"   составляет: 7.3 %\n",
      "Доля несвоевременного возврата кредита в категории \" операции с автомобилем \"   составляет: 9.3 %\n",
      "Доля несвоевременного возврата кредита в категории \" получение образования \"   составляет: 9.3 %\n",
      "Доля несвоевременного возврата кредита в категории \" проведение свадьбы \"   составляет: 7.9 %\n"
     ]
    }
   ],
   "source": [
    "# Определяю долю несвоевременного возврата кредита в категориях [purpose_category].\n",
    "\n",
    "for i in data['purpose_category'].unique():\n",
    "    print('Доля несвоевременного возврата кредита в категории \"',i,'\"   составляет:',\n",
    "    round(100*data['debt'].loc[data['purpose_category'] == i].mean(),1),'%')\n"
   ]
  },
  {
   "cell_type": "markdown",
   "id": "d198a5dc",
   "metadata": {},
   "source": [
    "Создаю сводную таблицу."
   ]
  },
  {
   "cell_type": "code",
   "execution_count": 51,
   "id": "308eda6a",
   "metadata": {},
   "outputs": [],
   "source": [
    "# Создаю таблицу методом pivot_table().\n",
    "\n",
    "debt_purpose_category = data.pivot_table(index='purpose_category', columns='debt', values='gender', aggfunc='count')"
   ]
  },
  {
   "cell_type": "code",
   "execution_count": 52,
   "id": "19950958",
   "metadata": {},
   "outputs": [],
   "source": [
    "# Создаю столбцы таблицы.\n",
    "\n",
    "debt_purpose_category.columns = ['no_debt', 'debt']"
   ]
  },
  {
   "cell_type": "code",
   "execution_count": 53,
   "id": "0cfd5c3e",
   "metadata": {},
   "outputs": [],
   "source": [
    "# Считаю [долю должников].\n",
    "\n",
    "debt_purpose_category['share_of_debt'] = debt_purpose_category['debt'] / (debt_purpose_category['debt'] + \n",
    "                                                                        debt_purpose_category['no_debt'])"
   ]
  },
  {
   "cell_type": "code",
   "execution_count": 54,
   "id": "252ea024",
   "metadata": {},
   "outputs": [],
   "source": [
    "# Перевожу значения в столбце [доля дожников] в проценты.\n",
    "\n",
    "debt_purpose_category['share_of_debt'] = debt_purpose_category['share_of_debt'].map('{:.1%}'.format)"
   ]
  },
  {
   "cell_type": "code",
   "execution_count": 55,
   "id": "6b18dc64",
   "metadata": {},
   "outputs": [
    {
     "data": {
      "text/html": [
       "<div>\n",
       "<style scoped>\n",
       "    .dataframe tbody tr th:only-of-type {\n",
       "        vertical-align: middle;\n",
       "    }\n",
       "\n",
       "    .dataframe tbody tr th {\n",
       "        vertical-align: top;\n",
       "    }\n",
       "\n",
       "    .dataframe thead th {\n",
       "        text-align: right;\n",
       "    }\n",
       "</style>\n",
       "<table border=\"1\" class=\"dataframe\">\n",
       "  <thead>\n",
       "    <tr style=\"text-align: right;\">\n",
       "      <th></th>\n",
       "      <th>no_debt</th>\n",
       "      <th>debt</th>\n",
       "      <th>share_of_debt</th>\n",
       "    </tr>\n",
       "    <tr>\n",
       "      <th>purpose_category</th>\n",
       "      <th></th>\n",
       "      <th></th>\n",
       "      <th></th>\n",
       "    </tr>\n",
       "  </thead>\n",
       "  <tbody>\n",
       "    <tr>\n",
       "      <th>операции с автомобилем</th>\n",
       "      <td>3879</td>\n",
       "      <td>400</td>\n",
       "      <td>9.3%</td>\n",
       "    </tr>\n",
       "    <tr>\n",
       "      <th>получение образования</th>\n",
       "      <td>3619</td>\n",
       "      <td>369</td>\n",
       "      <td>9.3%</td>\n",
       "    </tr>\n",
       "    <tr>\n",
       "      <th>проведение свадьбы</th>\n",
       "      <td>2130</td>\n",
       "      <td>183</td>\n",
       "      <td>7.9%</td>\n",
       "    </tr>\n",
       "    <tr>\n",
       "      <th>операции с недвижимостью</th>\n",
       "      <td>9971</td>\n",
       "      <td>780</td>\n",
       "      <td>7.3%</td>\n",
       "    </tr>\n",
       "  </tbody>\n",
       "</table>\n",
       "</div>"
      ],
      "text/plain": [
       "                          no_debt  debt share_of_debt\n",
       "purpose_category                                     \n",
       "операции с автомобилем       3879   400          9.3%\n",
       "получение образования        3619   369          9.3%\n",
       "проведение свадьбы           2130   183          7.9%\n",
       "операции с недвижимостью     9971   780          7.3%"
      ]
     },
     "execution_count": 55,
     "metadata": {},
     "output_type": "execute_result"
    }
   ],
   "source": [
    "# Сортирую по столбцу [доля лолжников] по убыванию.\n",
    "\n",
    "debt_purpose_category.sort_values(by='share_of_debt', ascending=False)"
   ]
  },
  {
   "cell_type": "markdown",
   "id": "ec0f4ba5",
   "metadata": {},
   "source": [
    "<div class=\"alert alert-success\"; style=\"border-left: 7px solid green\">\n",
    "<h5> ✔️ <font color=\"green\">Комментарий ревьюера (зеленый)</font></h5>\n",
    "\n",
    "Хорошее обоснование, ипотечники являются самой обширной категорией и самой добросовестной\n",
    "\n",
    "</div>"
   ]
  },
  {
   "cell_type": "markdown",
   "id": "cf05ed63",
   "metadata": {
    "deletable": false,
    "id": "cf05ed63"
   },
   "source": [
    "**Вывод:** Граждане берущие кредит для 'операций с недвижимостью', более ответственно подходят к обязательствам по его погашению. категория граждан с кредитами на 'получение образования' и 'операции с автомобилями', больше всего подвержены риску прописаться в категории должников."
   ]
  },
  {
   "cell_type": "markdown",
   "id": "46c1f10b",
   "metadata": {
    "deletable": false,
    "editable": false,
    "id": "46c1f10b"
   },
   "source": [
    "#### 3.5 Приведите возможные причины появления пропусков в исходных данных."
   ]
  },
  {
   "cell_type": "markdown",
   "id": "3697d2a9",
   "metadata": {
    "deletable": false,
    "id": "3697d2a9"
   },
   "source": [
    "*Ответ:* Причинами могут быть как технические проблемы так и человеческий фактор. Например повреждение дата файла присохранении, или заемщик прост оне захотел раскрывать информацию о своих доходах и трудовой деятельности.\n",
    "Заполнение информации в датасет могло идти из разных источников, возможно в некоторых случаях информация о доходах была не нужна, например при выдачи кредита участникам зарплатных карт, банка кредитора, и тд."
   ]
  },
  {
   "cell_type": "markdown",
   "id": "18ef0868",
   "metadata": {},
   "source": [
    "<div class=\"alert alert-success\"; style=\"border-left: 7px solid green\">\n",
    "<h5> ✔️ <font color=\"green\">Комментарий ревьюера (зеленый)</font></h5>\n",
    "\n",
    "Да, основные причины — технические ошибки и человеческий фактор\n",
    "\n",
    "</div>"
   ]
  },
  {
   "cell_type": "markdown",
   "id": "3137d257",
   "metadata": {
    "deletable": false,
    "editable": false,
    "id": "3137d257"
   },
   "source": [
    "#### 3.6 Объясните, почему заполнить пропуски медианным значением — лучшее решение для количественных переменных."
   ]
  },
  {
   "cell_type": "markdown",
   "id": "cf40012a",
   "metadata": {
    "deletable": false,
    "id": "cf40012a"
   },
   "source": [
    "*Ответ:* Медианное значение лучше всего отражает выборку в целом, в случае, если есть незаполненные данные. Среднее арифметическое отражает ситуацию некорректно, так как не учитывает разброс данных."
   ]
  },
  {
   "cell_type": "markdown",
   "id": "3c8f558f",
   "metadata": {},
   "source": [
    "<div class=\"alert alert-success\"; style=\"border-left: 7px solid green\">\n",
    "<h5> ✔️ <font color=\"green\">Комментарий ревьюера (зеленый)</font></h5>\n",
    "\n",
    "Верно, медиана в отличие от среднего значения, менее чувствительна к выбросам, среднее значение смещается в сторону выбросов.\n",
    "\n",
    "</div>"
   ]
  },
  {
   "cell_type": "markdown",
   "id": "57bc304e",
   "metadata": {
    "deletable": false,
    "editable": false,
    "id": "57bc304e"
   },
   "source": [
    "### Шаг 4: общий вывод."
   ]
  },
  {
   "cell_type": "markdown",
   "id": "c29be375",
   "metadata": {
    "deletable": false,
    "id": "1ab75d1c"
   },
   "source": [
    " \n",
    "\n",
    "**Проведенные исследования по предоставленой статистике о платёжеспособности клиентов выявили некоторые зависимости:**    \n",
    "* **Наличие и количество детей**  \n",
    "\n",
    "    При анализе данных, выявлен максимальный % не возврата кредита у многодетных клиентов с 4 детьми который составляет 8.9%.  \n",
    "    При количестве одного и двух детей процент невозврата практически одинаковый (9,2% и 9,4% соответственно).  \n",
    "        \n",
    "> Должников с детьми больше, чем бездетных, cледовательно, наличие детей негативно влияет на  \n",
    "    своевременный возврат кредитных обязательств.\n",
    "* **Семейное положение**  \n",
    "    При анализе данных, выявлен максимальный % не возврата кредита у граждан с семейным положением \"Не женат / не замужем\" и  \n",
    "    \"гражданский брак\" (9,8% и 9,3% соответственно).  \n",
    "    У клиентов с семейным положением \"вдовец / вдова\" самая низкий % не возврата - 6,6%.  \n",
    "    \n",
    "    _Доля просрочки по кредиту в категориях:_  \n",
    "         1. Не женат / не замужем   = 9.8%\n",
    "         2. гражданский брак\t    = 9.3%\n",
    "         3. женат / замужем\t     = 7.6%\n",
    "         4. в разводе               = 7.1%\n",
    "         5. вдовец / вдова          = 6.6%\n",
    "\n",
    "> Чаще всего должниками оказываются граждане, которые находятся в гражданском браке или в категории не женаты\\не замужем.\n",
    "* **Уровень дохода**  \n",
    "    При анализе данных, выявлен максимальный % не выполнения кредитных обязательств у клиентов с уровнем дохода  \n",
    "    категории E (0–30000) - 9.1%.  \n",
    "    У граждан с уровнем дохода категории A (выше 1 000 001) и C (50 001–200 000)  \n",
    "    приблизительно одинаковый % не выполнения кредитных обязательств (8% и 8,5% соответственно).   \n",
    "    Самый низкий % не возврата у клиентов с уровнем дохода категории D (30 001–50 000) - 6.0%.\n",
    "    \n",
    "> Зависимость между уровнем дохода и наличием просрочки по кредиту выражена в отношении: кто зарабатывает выше среднего, возвращают долги чаще, чем остальные.\n",
    "* **Цель кредита**  \n",
    "    При анализе данных, выявлен максимальный % не выполнения кредитных обязательств у клиентов с целью кредита \"операции с  \n",
    "    автомобилем\" и \"получение образования\" (9,4% и 9,3% соответственно).  \n",
    "    Самый низкий % не возврата у клиентов с целью кредита \"операции с недвижимостью\"- 7,3%.   \n",
    "    \n",
    "    _Доля несвоевременного возврата кредита в категориях_\n",
    "    \n",
    "      1. операции с автомобилем\t  = 9.3%  \n",
    "      2. получение образования\t   = 9.3%  \n",
    "      3. проведение свадьбы\t      = 7.9%  \n",
    "      4. операции с недвижимостью    = 7.3%  \n",
    "      \n",
    "> Значительная доля должников брала кредит на автомобиль или образование, граждан, берущих кредит на свадьбу или недвижимость,  меньше.\n",
    "    \n",
    "   Граждане входящие в категории многодетных, неженатые и состоящие в гражданском браке с низким уровнем дохода, с наибольшей вероятностью допустят просрочку по кредитным обязательствам.  \n",
    "   Возможно целью кредита будет получение образования и операции с автомобилем. \n",
    "   Комбинация этих факторов может привести к просрочкам. Высокой вероятностью выполнения кредитных обязательств обладают категории граждан, имеющих высокий доход, (выше 200000), и не имеющих детей.\n",
    "    \n",
    "   \n",
    "    "
   ]
  },
  {
   "cell_type": "markdown",
   "id": "24ffc6a4",
   "metadata": {},
   "source": [
    "<div class=\"alert alert-danger\"; style=\"border-left: 7px solid FireBrick\">\n",
    "<h5> ❌ <font color=\"FireBrick\">Комментарий ревьюера (красный)</font></h5>\n",
    "\n",
    "В общем выводе хочется тезисно видеть все промежуточные выводы с цифрами. Это очень важно, поскольку топ-менеджеры, в большинстве своем, смотрят сразу сюда и только сюда...\n",
    "\n",
    "Тут важно обратиться к целям, которые были озвучены в самом начале и ответить на все вопросы. Важно оформить все тезисно и с цифрами. Еще важно описать все промежуточные выводы, которых не прописано в целях.\n",
    "Вкратце структура такая:\n",
    "- как были предобработаны данные(тут важно написать про изменения, если заполнялись пропуски или преобразовывались строки)\n",
    "- пройдись по целям и ответь на вопросы\n",
    "- добавь промежуточные выводы, которые считаешь нужным отметить\n",
    "\n",
    "Еще очень важно помнить, для кого ты делаешь проект, в зависимости от этого нужно сделать определенные акценты. В данном случае проект учебный, поэтому нужно ориентироваться по описанию.\n",
    "\n",
    "Для красивого оформления можешь воспользоваться [Кратким руководством по Маркдауну](https://paulradzkov.com/2014/markdown_cheatsheet/).\n",
    "    \n",
    "\n",
    "</div>"
   ]
  },
  {
   "cell_type": "markdown",
   "id": "f17d7b7d",
   "metadata": {},
   "source": [
    "<div class=\"alert alert-info\"; style=\"border-left: 7px solid SteelBlue\">\n",
    "<h5>🎓 <font color=\"SteelBlue\">Комментарий от студента (синий)</font></h5>    \n",
    "\n",
    "Общий вывод сделан!\n",
    "\n",
    "</div>"
   ]
  },
  {
   "cell_type": "markdown",
   "id": "af4db2c3",
   "metadata": {},
   "source": [
    "<div class=\"alert alert-success\"; style=\"border-left: 7px solid green\">\n",
    "<h5> ✔️ <font color=\"green\">v2 Комментарий ревьюера (зеленый)</font></h5>\n",
    "\n",
    "✅ Спасибо, очень хороший и подробный общий вывод, которые содержит все промежуточные результаты 👍\n",
    " \n",
    "</div>"
   ]
  }
 ],
 "metadata": {
  "ExecuteTimeLog": [
   {
    "duration": 72,
    "start_time": "2023-06-30T12:12:44.307Z"
   },
   {
    "duration": 12,
    "start_time": "2023-06-30T12:13:17.336Z"
   },
   {
    "duration": 8,
    "start_time": "2023-06-30T12:13:33.310Z"
   },
   {
    "duration": 9,
    "start_time": "2023-06-30T12:13:45.308Z"
   },
   {
    "duration": 5,
    "start_time": "2023-06-30T12:13:56.648Z"
   },
   {
    "duration": 573,
    "start_time": "2023-06-30T12:16:29.598Z"
   },
   {
    "duration": 114,
    "start_time": "2023-06-30T12:17:56.791Z"
   },
   {
    "duration": 114,
    "start_time": "2023-06-30T12:18:18.793Z"
   },
   {
    "duration": 116,
    "start_time": "2023-06-30T12:18:20.590Z"
   },
   {
    "duration": 114,
    "start_time": "2023-06-30T12:18:22.243Z"
   },
   {
    "duration": 101,
    "start_time": "2023-06-30T12:21:52.588Z"
   },
   {
    "duration": 128,
    "start_time": "2023-06-30T12:36:23.799Z"
   },
   {
    "duration": 106,
    "start_time": "2023-06-30T12:36:28.955Z"
   },
   {
    "duration": 152,
    "start_time": "2023-06-30T12:36:32.462Z"
   },
   {
    "duration": 99,
    "start_time": "2023-06-30T12:36:41.400Z"
   },
   {
    "duration": 110,
    "start_time": "2023-06-30T12:37:12.707Z"
   },
   {
    "duration": 94,
    "start_time": "2023-06-30T12:37:19.249Z"
   },
   {
    "duration": 95,
    "start_time": "2023-06-30T12:37:38.584Z"
   },
   {
    "duration": 96,
    "start_time": "2023-06-30T12:38:00.454Z"
   },
   {
    "duration": 105,
    "start_time": "2023-06-30T12:38:02.868Z"
   },
   {
    "duration": 71,
    "start_time": "2023-06-30T12:38:04.245Z"
   },
   {
    "duration": 95,
    "start_time": "2023-06-30T12:38:19.861Z"
   },
   {
    "duration": 74,
    "start_time": "2023-06-30T12:38:27.856Z"
   },
   {
    "duration": 16,
    "start_time": "2023-06-30T12:38:50.938Z"
   },
   {
    "duration": 81,
    "start_time": "2023-06-30T12:46:18.449Z"
   },
   {
    "duration": 78,
    "start_time": "2023-06-30T12:46:35.257Z"
   },
   {
    "duration": 44,
    "start_time": "2023-07-01T17:52:10.579Z"
   },
   {
    "duration": 3,
    "start_time": "2023-07-01T17:52:15.847Z"
   },
   {
    "duration": 512,
    "start_time": "2023-07-01T17:55:27.535Z"
   },
   {
    "duration": 15,
    "start_time": "2023-07-01T17:56:03.947Z"
   },
   {
    "duration": 4,
    "start_time": "2023-07-01T17:57:19.788Z"
   },
   {
    "duration": 3,
    "start_time": "2023-07-01T17:57:22.134Z"
   },
   {
    "duration": 38,
    "start_time": "2023-07-01T17:58:01.940Z"
   },
   {
    "duration": 12,
    "start_time": "2023-07-01T18:23:51.422Z"
   },
   {
    "duration": 12,
    "start_time": "2023-07-01T18:24:36.783Z"
   },
   {
    "duration": 11,
    "start_time": "2023-07-01T18:25:36.324Z"
   },
   {
    "duration": 12,
    "start_time": "2023-07-01T18:26:02.723Z"
   },
   {
    "duration": 7,
    "start_time": "2023-07-01T18:27:52.324Z"
   },
   {
    "duration": 16,
    "start_time": "2023-07-01T18:28:09.324Z"
   },
   {
    "duration": 16,
    "start_time": "2023-07-01T18:28:57.554Z"
   },
   {
    "duration": 11,
    "start_time": "2023-07-01T18:29:25.424Z"
   },
   {
    "duration": 13,
    "start_time": "2023-07-01T18:31:43.107Z"
   },
   {
    "duration": 11,
    "start_time": "2023-07-01T18:32:06.936Z"
   },
   {
    "duration": 11,
    "start_time": "2023-07-01T18:32:21.324Z"
   },
   {
    "duration": 32,
    "start_time": "2023-07-01T18:33:02.373Z"
   },
   {
    "duration": 5,
    "start_time": "2023-07-01T18:35:03.966Z"
   },
   {
    "duration": 4,
    "start_time": "2023-07-01T18:35:39.156Z"
   },
   {
    "duration": 2,
    "start_time": "2023-07-01T18:37:12.167Z"
   },
   {
    "duration": 7,
    "start_time": "2023-07-01T18:37:43.547Z"
   },
   {
    "duration": 11,
    "start_time": "2023-07-01T18:37:55.447Z"
   },
   {
    "duration": 17,
    "start_time": "2023-07-01T18:38:14.429Z"
   },
   {
    "duration": 10,
    "start_time": "2023-07-01T18:39:37.788Z"
   },
   {
    "duration": 14,
    "start_time": "2023-07-01T18:44:22.092Z"
   },
   {
    "duration": 14,
    "start_time": "2023-07-01T18:44:24.084Z"
   },
   {
    "duration": 14,
    "start_time": "2023-07-01T18:44:44.205Z"
   },
   {
    "duration": 16,
    "start_time": "2023-07-01T18:44:54.873Z"
   },
   {
    "duration": 8,
    "start_time": "2023-07-01T18:45:25.713Z"
   },
   {
    "duration": 12,
    "start_time": "2023-07-01T18:45:30.381Z"
   },
   {
    "duration": 69,
    "start_time": "2023-07-01T18:56:01.987Z"
   },
   {
    "duration": 15,
    "start_time": "2023-07-01T18:56:03.197Z"
   },
   {
    "duration": 16,
    "start_time": "2023-07-01T18:56:06.687Z"
   },
   {
    "duration": 9,
    "start_time": "2023-07-01T18:56:09.488Z"
   },
   {
    "duration": 34,
    "start_time": "2023-07-01T18:56:11.396Z"
   },
   {
    "duration": 3,
    "start_time": "2023-07-01T18:56:13.057Z"
   },
   {
    "duration": 9,
    "start_time": "2023-07-01T18:56:14.356Z"
   },
   {
    "duration": 4,
    "start_time": "2023-07-01T18:56:16.667Z"
   },
   {
    "duration": 7,
    "start_time": "2023-07-01T18:56:17.875Z"
   },
   {
    "duration": 5,
    "start_time": "2023-07-01T18:56:19.016Z"
   },
   {
    "duration": 30,
    "start_time": "2023-07-01T18:56:20.676Z"
   },
   {
    "duration": 9,
    "start_time": "2023-07-01T18:56:23.557Z"
   },
   {
    "duration": 4,
    "start_time": "2023-07-01T18:56:25.646Z"
   },
   {
    "duration": 17,
    "start_time": "2023-07-01T18:56:27.387Z"
   },
   {
    "duration": 19,
    "start_time": "2023-07-01T18:56:28.347Z"
   },
   {
    "duration": 17,
    "start_time": "2023-07-01T18:56:29.366Z"
   },
   {
    "duration": 3,
    "start_time": "2023-07-01T18:56:31.767Z"
   },
   {
    "duration": 9,
    "start_time": "2023-07-01T18:56:34.678Z"
   },
   {
    "duration": 6,
    "start_time": "2023-07-01T18:56:35.868Z"
   },
   {
    "duration": 4,
    "start_time": "2023-07-01T18:56:38.507Z"
   },
   {
    "duration": 13,
    "start_time": "2023-07-01T18:56:39.997Z"
   },
   {
    "duration": 80,
    "start_time": "2023-07-01T18:56:43.248Z"
   },
   {
    "duration": 3,
    "start_time": "2023-07-01T18:56:47.037Z"
   },
   {
    "duration": 12,
    "start_time": "2023-07-01T18:56:48.447Z"
   },
   {
    "duration": 18,
    "start_time": "2023-07-01T18:56:50.098Z"
   },
   {
    "duration": 2,
    "start_time": "2023-07-01T19:05:59.202Z"
   },
   {
    "duration": 2,
    "start_time": "2023-07-01T19:06:14.844Z"
   },
   {
    "duration": 506,
    "start_time": "2023-07-01T19:07:37.226Z"
   },
   {
    "duration": 21,
    "start_time": "2023-07-01T19:07:37.734Z"
   },
   {
    "duration": 14,
    "start_time": "2023-07-01T19:07:37.757Z"
   },
   {
    "duration": 9,
    "start_time": "2023-07-01T19:07:37.773Z"
   },
   {
    "duration": 32,
    "start_time": "2023-07-01T19:07:37.783Z"
   },
   {
    "duration": 3,
    "start_time": "2023-07-01T19:07:37.816Z"
   },
   {
    "duration": 12,
    "start_time": "2023-07-01T19:07:37.821Z"
   },
   {
    "duration": 4,
    "start_time": "2023-07-01T19:07:37.834Z"
   },
   {
    "duration": 8,
    "start_time": "2023-07-01T19:07:37.839Z"
   },
   {
    "duration": 22,
    "start_time": "2023-07-01T19:07:37.849Z"
   },
   {
    "duration": 32,
    "start_time": "2023-07-01T19:07:37.873Z"
   },
   {
    "duration": 9,
    "start_time": "2023-07-01T19:07:37.906Z"
   },
   {
    "duration": 7,
    "start_time": "2023-07-01T19:07:37.916Z"
   },
   {
    "duration": 14,
    "start_time": "2023-07-01T19:07:37.924Z"
   },
   {
    "duration": 35,
    "start_time": "2023-07-01T19:07:37.939Z"
   },
   {
    "duration": 17,
    "start_time": "2023-07-01T19:07:37.975Z"
   },
   {
    "duration": 4,
    "start_time": "2023-07-01T19:07:37.993Z"
   },
   {
    "duration": 14,
    "start_time": "2023-07-01T19:07:37.998Z"
   },
   {
    "duration": 8,
    "start_time": "2023-07-01T19:07:38.014Z"
   },
   {
    "duration": 7,
    "start_time": "2023-07-01T19:07:38.023Z"
   },
   {
    "duration": 10,
    "start_time": "2023-07-01T19:07:38.031Z"
   },
   {
    "duration": 26,
    "start_time": "2023-07-01T19:07:38.043Z"
   },
   {
    "duration": 6,
    "start_time": "2023-07-01T19:07:38.070Z"
   },
   {
    "duration": 3,
    "start_time": "2023-07-01T19:07:38.077Z"
   },
   {
    "duration": 4,
    "start_time": "2023-07-01T19:07:38.082Z"
   },
   {
    "duration": 15,
    "start_time": "2023-07-01T19:07:56.162Z"
   },
   {
    "duration": 2,
    "start_time": "2023-07-01T19:09:00.195Z"
   },
   {
    "duration": 12,
    "start_time": "2023-07-01T20:32:24.353Z"
   },
   {
    "duration": 3,
    "start_time": "2023-07-01T20:32:29.280Z"
   },
   {
    "duration": 3,
    "start_time": "2023-07-01T20:46:51.325Z"
   },
   {
    "duration": 7,
    "start_time": "2023-07-01T20:47:04.548Z"
   },
   {
    "duration": 12,
    "start_time": "2023-07-01T20:47:14.875Z"
   },
   {
    "duration": 9,
    "start_time": "2023-07-01T20:54:11.323Z"
   },
   {
    "duration": 6,
    "start_time": "2023-07-01T20:54:55.945Z"
   },
   {
    "duration": 5,
    "start_time": "2023-07-01T20:55:20.676Z"
   },
   {
    "duration": 5,
    "start_time": "2023-07-01T20:55:30.455Z"
   },
   {
    "duration": 11,
    "start_time": "2023-07-01T20:58:22.728Z"
   },
   {
    "duration": 14,
    "start_time": "2023-07-01T20:58:59.297Z"
   },
   {
    "duration": 12,
    "start_time": "2023-07-01T20:59:07.413Z"
   },
   {
    "duration": 17,
    "start_time": "2023-07-01T20:59:18.427Z"
   },
   {
    "duration": 13,
    "start_time": "2023-07-01T20:59:26.487Z"
   },
   {
    "duration": 6,
    "start_time": "2023-07-01T21:01:33.611Z"
   },
   {
    "duration": 6,
    "start_time": "2023-07-01T21:01:34.869Z"
   },
   {
    "duration": 5,
    "start_time": "2023-07-01T21:01:59.293Z"
   },
   {
    "duration": 7,
    "start_time": "2023-07-01T21:02:04.173Z"
   },
   {
    "duration": 7,
    "start_time": "2023-07-01T21:02:16.640Z"
   },
   {
    "duration": 4,
    "start_time": "2023-07-01T21:07:36.641Z"
   },
   {
    "duration": 3,
    "start_time": "2023-07-01T21:07:51.762Z"
   },
   {
    "duration": 6,
    "start_time": "2023-07-01T21:07:53.642Z"
   },
   {
    "duration": 8,
    "start_time": "2023-07-01T21:08:20.590Z"
   },
   {
    "duration": 90,
    "start_time": "2023-07-01T21:08:49.889Z"
   },
   {
    "duration": 60,
    "start_time": "2023-07-01T21:08:55.881Z"
   },
   {
    "duration": 7,
    "start_time": "2023-07-01T21:09:09.859Z"
   },
   {
    "duration": 9,
    "start_time": "2023-07-01T21:09:16.450Z"
   },
   {
    "duration": 10,
    "start_time": "2023-07-01T21:10:24.174Z"
   },
   {
    "duration": 84,
    "start_time": "2023-07-01T21:23:03.183Z"
   },
   {
    "duration": 164,
    "start_time": "2023-07-01T21:23:36.461Z"
   },
   {
    "duration": 280,
    "start_time": "2023-07-01T21:24:02.981Z"
   },
   {
    "duration": 10,
    "start_time": "2023-07-01T21:24:08.565Z"
   },
   {
    "duration": 9,
    "start_time": "2023-07-01T21:25:07.148Z"
   },
   {
    "duration": 80,
    "start_time": "2023-07-01T21:25:18.414Z"
   },
   {
    "duration": 11,
    "start_time": "2023-07-01T21:25:45.677Z"
   },
   {
    "duration": 9,
    "start_time": "2023-07-01T21:40:10.282Z"
   },
   {
    "duration": 9,
    "start_time": "2023-07-01T21:40:15.580Z"
   },
   {
    "duration": 10,
    "start_time": "2023-07-01T21:40:21.498Z"
   },
   {
    "duration": 9,
    "start_time": "2023-07-01T21:40:28.720Z"
   },
   {
    "duration": 11,
    "start_time": "2023-07-01T21:40:34.983Z"
   },
   {
    "duration": 11,
    "start_time": "2023-07-01T21:40:44.436Z"
   },
   {
    "duration": 21,
    "start_time": "2023-07-01T22:02:16.243Z"
   },
   {
    "duration": 19,
    "start_time": "2023-07-01T22:02:25.756Z"
   },
   {
    "duration": 24,
    "start_time": "2023-07-01T22:02:35.770Z"
   },
   {
    "duration": 24,
    "start_time": "2023-07-01T22:02:49.791Z"
   },
   {
    "duration": 16,
    "start_time": "2023-07-01T22:07:33.603Z"
   },
   {
    "duration": 8,
    "start_time": "2023-07-01T23:20:42.105Z"
   },
   {
    "duration": 188,
    "start_time": "2023-07-01T23:20:56.343Z"
   },
   {
    "duration": 7,
    "start_time": "2023-07-01T23:28:10.051Z"
   },
   {
    "duration": 8,
    "start_time": "2023-07-01T23:28:49.661Z"
   },
   {
    "duration": 10,
    "start_time": "2023-07-01T23:48:30.268Z"
   },
   {
    "duration": 9,
    "start_time": "2023-07-01T23:49:11.438Z"
   },
   {
    "duration": 3,
    "start_time": "2023-07-02T00:04:35.325Z"
   },
   {
    "duration": 22,
    "start_time": "2023-07-02T00:14:40.044Z"
   },
   {
    "duration": 3,
    "start_time": "2023-07-02T00:20:35.830Z"
   },
   {
    "duration": 7,
    "start_time": "2023-07-02T00:20:36.655Z"
   },
   {
    "duration": 14,
    "start_time": "2023-07-02T00:20:39.750Z"
   },
   {
    "duration": 10,
    "start_time": "2023-07-02T00:20:53.736Z"
   },
   {
    "duration": 8,
    "start_time": "2023-07-02T00:20:55.724Z"
   },
   {
    "duration": 7,
    "start_time": "2023-07-02T00:21:12.355Z"
   },
   {
    "duration": 7,
    "start_time": "2023-07-02T00:21:19.642Z"
   },
   {
    "duration": 8,
    "start_time": "2023-07-02T00:21:26.253Z"
   },
   {
    "duration": 3,
    "start_time": "2023-07-02T00:22:16.854Z"
   },
   {
    "duration": 8,
    "start_time": "2023-07-02T00:22:18.138Z"
   },
   {
    "duration": 7,
    "start_time": "2023-07-02T00:22:30.850Z"
   },
   {
    "duration": 2,
    "start_time": "2023-07-02T00:24:02.296Z"
   },
   {
    "duration": 13,
    "start_time": "2023-07-02T00:24:04.468Z"
   },
   {
    "duration": 12,
    "start_time": "2023-07-02T00:24:16.587Z"
   },
   {
    "duration": 12,
    "start_time": "2023-07-02T00:26:10.917Z"
   },
   {
    "duration": 343,
    "start_time": "2023-07-02T00:27:15.200Z"
   },
   {
    "duration": 353,
    "start_time": "2023-07-02T00:27:48.350Z"
   },
   {
    "duration": 6,
    "start_time": "2023-07-02T00:28:15.347Z"
   },
   {
    "duration": 14,
    "start_time": "2023-07-02T00:28:16.950Z"
   },
   {
    "duration": 374,
    "start_time": "2023-07-02T00:28:19.442Z"
   },
   {
    "duration": 509,
    "start_time": "2023-07-02T00:30:17.186Z"
   },
   {
    "duration": 4,
    "start_time": "2023-07-02T00:30:29.581Z"
   },
   {
    "duration": 3,
    "start_time": "2023-07-02T00:30:32.334Z"
   },
   {
    "duration": 7,
    "start_time": "2023-07-02T00:30:46.781Z"
   },
   {
    "duration": 8,
    "start_time": "2023-07-02T00:31:51.048Z"
   },
   {
    "duration": 4,
    "start_time": "2023-07-02T00:31:53.273Z"
   },
   {
    "duration": 6,
    "start_time": "2023-07-02T00:31:54.318Z"
   },
   {
    "duration": 3,
    "start_time": "2023-07-02T00:33:52.893Z"
   },
   {
    "duration": 6,
    "start_time": "2023-07-02T00:33:53.660Z"
   },
   {
    "duration": 15,
    "start_time": "2023-07-02T00:36:18.537Z"
   },
   {
    "duration": 2,
    "start_time": "2023-07-02T00:36:55.934Z"
   },
   {
    "duration": 3,
    "start_time": "2023-07-02T00:38:10.500Z"
   },
   {
    "duration": 6,
    "start_time": "2023-07-02T00:39:48.429Z"
   },
   {
    "duration": 6,
    "start_time": "2023-07-02T00:40:20.884Z"
   },
   {
    "duration": 7,
    "start_time": "2023-07-02T00:40:23.680Z"
   },
   {
    "duration": 7,
    "start_time": "2023-07-02T00:40:32.099Z"
   },
   {
    "duration": 10,
    "start_time": "2023-07-02T00:40:33.032Z"
   },
   {
    "duration": 3,
    "start_time": "2023-07-02T00:40:40.036Z"
   },
   {
    "duration": 7,
    "start_time": "2023-07-02T00:40:40.624Z"
   },
   {
    "duration": 4,
    "start_time": "2023-07-02T00:42:13.431Z"
   },
   {
    "duration": 10,
    "start_time": "2023-07-02T00:42:14.079Z"
   },
   {
    "duration": 15,
    "start_time": "2023-07-02T00:42:16.430Z"
   },
   {
    "duration": 3,
    "start_time": "2023-07-02T00:42:16.961Z"
   },
   {
    "duration": 4,
    "start_time": "2023-07-02T00:42:18.033Z"
   },
   {
    "duration": 326,
    "start_time": "2023-07-02T00:44:25.926Z"
   },
   {
    "duration": 13,
    "start_time": "2023-07-02T00:44:28.660Z"
   },
   {
    "duration": 3,
    "start_time": "2023-07-02T00:44:29.517Z"
   },
   {
    "duration": 4,
    "start_time": "2023-07-02T00:44:31.197Z"
   },
   {
    "duration": 14,
    "start_time": "2023-07-02T00:44:38.789Z"
   },
   {
    "duration": 2,
    "start_time": "2023-07-02T00:44:39.331Z"
   },
   {
    "duration": 4,
    "start_time": "2023-07-02T00:44:39.996Z"
   },
   {
    "duration": 4,
    "start_time": "2023-07-02T00:44:40.769Z"
   },
   {
    "duration": 7,
    "start_time": "2023-07-02T00:44:42.516Z"
   },
   {
    "duration": 4,
    "start_time": "2023-07-02T00:45:35.965Z"
   },
   {
    "duration": 7,
    "start_time": "2023-07-02T00:45:36.429Z"
   },
   {
    "duration": 13,
    "start_time": "2023-07-02T00:45:38.396Z"
   },
   {
    "duration": 3,
    "start_time": "2023-07-02T00:45:38.891Z"
   },
   {
    "duration": 4,
    "start_time": "2023-07-02T00:45:39.381Z"
   },
   {
    "duration": 3,
    "start_time": "2023-07-02T00:45:39.891Z"
   },
   {
    "duration": 7,
    "start_time": "2023-07-02T00:45:40.611Z"
   },
   {
    "duration": 3,
    "start_time": "2023-07-02T00:46:05.419Z"
   },
   {
    "duration": 6,
    "start_time": "2023-07-02T00:46:05.988Z"
   },
   {
    "duration": 12,
    "start_time": "2023-07-02T00:46:06.579Z"
   },
   {
    "duration": 4,
    "start_time": "2023-07-02T00:46:12.221Z"
   },
   {
    "duration": 7,
    "start_time": "2023-07-02T00:46:12.967Z"
   },
   {
    "duration": 14,
    "start_time": "2023-07-02T00:46:16.869Z"
   },
   {
    "duration": 3,
    "start_time": "2023-07-02T00:46:17.355Z"
   },
   {
    "duration": 3,
    "start_time": "2023-07-02T00:46:17.816Z"
   },
   {
    "duration": 4,
    "start_time": "2023-07-02T00:46:18.298Z"
   },
   {
    "duration": 7,
    "start_time": "2023-07-02T00:46:19.033Z"
   },
   {
    "duration": 13,
    "start_time": "2023-07-02T00:47:14.777Z"
   },
   {
    "duration": 356,
    "start_time": "2023-07-02T00:47:46.965Z"
   },
   {
    "duration": 14,
    "start_time": "2023-07-02T00:47:51.192Z"
   },
   {
    "duration": 3,
    "start_time": "2023-07-02T00:47:51.720Z"
   },
   {
    "duration": 4,
    "start_time": "2023-07-02T00:47:52.257Z"
   },
   {
    "duration": 3,
    "start_time": "2023-07-02T00:47:52.911Z"
   },
   {
    "duration": 8,
    "start_time": "2023-07-02T00:47:55.896Z"
   },
   {
    "duration": 17,
    "start_time": "2023-07-02T00:48:03.424Z"
   },
   {
    "duration": 3,
    "start_time": "2023-07-02T00:48:03.877Z"
   },
   {
    "duration": 4,
    "start_time": "2023-07-02T00:48:04.341Z"
   },
   {
    "duration": 4,
    "start_time": "2023-07-02T00:48:04.810Z"
   },
   {
    "duration": 8,
    "start_time": "2023-07-02T00:48:05.372Z"
   },
   {
    "duration": 22,
    "start_time": "2023-07-02T00:50:01.764Z"
   },
   {
    "duration": 19,
    "start_time": "2023-07-02T00:50:20.253Z"
   },
   {
    "duration": 8,
    "start_time": "2023-07-02T00:50:45.971Z"
   },
   {
    "duration": 9,
    "start_time": "2023-07-02T00:52:29.493Z"
   },
   {
    "duration": 12,
    "start_time": "2023-07-02T00:52:32.175Z"
   },
   {
    "duration": 3,
    "start_time": "2023-07-02T00:52:32.748Z"
   },
   {
    "duration": 4,
    "start_time": "2023-07-02T00:52:33.229Z"
   },
   {
    "duration": 4,
    "start_time": "2023-07-02T00:52:33.744Z"
   },
   {
    "duration": 7,
    "start_time": "2023-07-02T00:52:34.510Z"
   },
   {
    "duration": 9,
    "start_time": "2023-07-02T00:52:43.682Z"
   },
   {
    "duration": 15,
    "start_time": "2023-07-02T00:52:45.364Z"
   },
   {
    "duration": 3,
    "start_time": "2023-07-02T00:52:45.810Z"
   },
   {
    "duration": 4,
    "start_time": "2023-07-02T00:52:46.228Z"
   },
   {
    "duration": 3,
    "start_time": "2023-07-02T00:52:46.671Z"
   },
   {
    "duration": 7,
    "start_time": "2023-07-02T00:52:47.376Z"
   },
   {
    "duration": 7,
    "start_time": "2023-07-02T00:52:49.239Z"
   },
   {
    "duration": 7,
    "start_time": "2023-07-02T00:52:54.463Z"
   },
   {
    "duration": 13,
    "start_time": "2023-07-02T00:52:57.514Z"
   },
   {
    "duration": 2,
    "start_time": "2023-07-02T00:52:58.075Z"
   },
   {
    "duration": 4,
    "start_time": "2023-07-02T00:52:58.596Z"
   },
   {
    "duration": 3,
    "start_time": "2023-07-02T00:52:59.188Z"
   },
   {
    "duration": 8,
    "start_time": "2023-07-02T00:53:00.069Z"
   },
   {
    "duration": 47,
    "start_time": "2023-07-02T10:17:14.449Z"
   },
   {
    "duration": 8,
    "start_time": "2023-07-02T10:17:20.604Z"
   },
   {
    "duration": 769,
    "start_time": "2023-07-02T10:17:39.136Z"
   },
   {
    "duration": 36,
    "start_time": "2023-07-02T10:17:39.908Z"
   },
   {
    "duration": 36,
    "start_time": "2023-07-02T10:17:39.945Z"
   },
   {
    "duration": 17,
    "start_time": "2023-07-02T10:17:39.983Z"
   },
   {
    "duration": 67,
    "start_time": "2023-07-02T10:17:40.003Z"
   },
   {
    "duration": 3,
    "start_time": "2023-07-02T10:17:40.072Z"
   },
   {
    "duration": 14,
    "start_time": "2023-07-02T10:17:40.077Z"
   },
   {
    "duration": 14,
    "start_time": "2023-07-02T10:17:40.093Z"
   },
   {
    "duration": 8,
    "start_time": "2023-07-02T10:17:40.109Z"
   },
   {
    "duration": 18,
    "start_time": "2023-07-02T10:17:40.119Z"
   },
   {
    "duration": 55,
    "start_time": "2023-07-02T10:17:40.141Z"
   },
   {
    "duration": 10,
    "start_time": "2023-07-02T10:17:40.198Z"
   },
   {
    "duration": 26,
    "start_time": "2023-07-02T10:17:40.210Z"
   },
   {
    "duration": 34,
    "start_time": "2023-07-02T10:17:40.237Z"
   },
   {
    "duration": 35,
    "start_time": "2023-07-02T10:17:40.273Z"
   },
   {
    "duration": 30,
    "start_time": "2023-07-02T10:17:40.310Z"
   },
   {
    "duration": 28,
    "start_time": "2023-07-02T10:17:40.343Z"
   },
   {
    "duration": 24,
    "start_time": "2023-07-02T10:17:40.374Z"
   },
   {
    "duration": 11,
    "start_time": "2023-07-02T10:17:40.401Z"
   },
   {
    "duration": 10,
    "start_time": "2023-07-02T10:17:40.415Z"
   },
   {
    "duration": 50,
    "start_time": "2023-07-02T10:17:40.427Z"
   },
   {
    "duration": 16,
    "start_time": "2023-07-02T10:17:40.480Z"
   },
   {
    "duration": 15,
    "start_time": "2023-07-02T10:17:40.498Z"
   },
   {
    "duration": 3,
    "start_time": "2023-07-02T10:17:40.516Z"
   },
   {
    "duration": 28,
    "start_time": "2023-07-02T10:17:40.521Z"
   },
   {
    "duration": 41,
    "start_time": "2023-07-02T10:17:40.551Z"
   },
   {
    "duration": 18,
    "start_time": "2023-07-02T10:17:40.594Z"
   },
   {
    "duration": 10,
    "start_time": "2023-07-02T10:17:40.616Z"
   },
   {
    "duration": 47,
    "start_time": "2023-07-02T10:17:40.628Z"
   },
   {
    "duration": 4,
    "start_time": "2023-07-02T10:17:40.677Z"
   },
   {
    "duration": 7,
    "start_time": "2023-07-02T10:17:40.683Z"
   },
   {
    "duration": 12,
    "start_time": "2023-07-02T10:17:40.692Z"
   },
   {
    "duration": 18,
    "start_time": "2023-07-02T10:17:40.707Z"
   },
   {
    "duration": 28,
    "start_time": "2023-07-02T10:17:40.728Z"
   },
   {
    "duration": 5,
    "start_time": "2023-07-02T10:17:40.759Z"
   },
   {
    "duration": 10,
    "start_time": "2023-07-02T10:17:40.768Z"
   },
   {
    "duration": 8,
    "start_time": "2023-07-02T10:23:45.651Z"
   },
   {
    "duration": 15,
    "start_time": "2023-07-02T10:23:47.610Z"
   },
   {
    "duration": 7,
    "start_time": "2023-07-02T10:24:52.101Z"
   },
   {
    "duration": 7,
    "start_time": "2023-07-02T10:25:08.953Z"
   },
   {
    "duration": 9,
    "start_time": "2023-07-02T10:25:10.692Z"
   },
   {
    "duration": 8,
    "start_time": "2023-07-02T10:25:12.709Z"
   },
   {
    "duration": 4,
    "start_time": "2023-07-02T10:25:15.231Z"
   },
   {
    "duration": 8,
    "start_time": "2023-07-02T10:25:16.003Z"
   },
   {
    "duration": 15,
    "start_time": "2023-07-02T10:25:23.492Z"
   },
   {
    "duration": 3,
    "start_time": "2023-07-02T10:25:24.011Z"
   },
   {
    "duration": 5,
    "start_time": "2023-07-02T10:25:24.511Z"
   },
   {
    "duration": 4,
    "start_time": "2023-07-02T10:25:25.040Z"
   },
   {
    "duration": 10,
    "start_time": "2023-07-02T10:25:25.800Z"
   },
   {
    "duration": 481,
    "start_time": "2023-07-02T10:30:16.710Z"
   },
   {
    "duration": 42,
    "start_time": "2023-07-02T10:30:17.193Z"
   },
   {
    "duration": 23,
    "start_time": "2023-07-02T10:30:17.238Z"
   },
   {
    "duration": 10,
    "start_time": "2023-07-02T10:30:17.267Z"
   },
   {
    "duration": 42,
    "start_time": "2023-07-02T10:30:17.279Z"
   },
   {
    "duration": 11,
    "start_time": "2023-07-02T10:30:17.322Z"
   },
   {
    "duration": 20,
    "start_time": "2023-07-02T10:30:17.335Z"
   },
   {
    "duration": 5,
    "start_time": "2023-07-02T10:30:17.358Z"
   },
   {
    "duration": 9,
    "start_time": "2023-07-02T10:30:17.365Z"
   },
   {
    "duration": 16,
    "start_time": "2023-07-02T10:30:17.378Z"
   },
   {
    "duration": 45,
    "start_time": "2023-07-02T10:30:17.396Z"
   },
   {
    "duration": 10,
    "start_time": "2023-07-02T10:30:17.442Z"
   },
   {
    "duration": 9,
    "start_time": "2023-07-02T10:30:17.453Z"
   },
   {
    "duration": 21,
    "start_time": "2023-07-02T10:30:17.463Z"
   },
   {
    "duration": 25,
    "start_time": "2023-07-02T10:30:17.485Z"
   },
   {
    "duration": 32,
    "start_time": "2023-07-02T10:30:17.511Z"
   },
   {
    "duration": 4,
    "start_time": "2023-07-02T10:30:17.545Z"
   },
   {
    "duration": 15,
    "start_time": "2023-07-02T10:30:17.550Z"
   },
   {
    "duration": 11,
    "start_time": "2023-07-02T10:30:17.566Z"
   },
   {
    "duration": 3,
    "start_time": "2023-07-02T10:30:17.579Z"
   },
   {
    "duration": 13,
    "start_time": "2023-07-02T10:30:17.584Z"
   },
   {
    "duration": 13,
    "start_time": "2023-07-02T10:30:17.599Z"
   },
   {
    "duration": 12,
    "start_time": "2023-07-02T10:30:17.633Z"
   },
   {
    "duration": 4,
    "start_time": "2023-07-02T10:30:17.647Z"
   },
   {
    "duration": 24,
    "start_time": "2023-07-02T10:30:17.653Z"
   },
   {
    "duration": 20,
    "start_time": "2023-07-02T10:30:17.679Z"
   },
   {
    "duration": 29,
    "start_time": "2023-07-02T10:30:17.700Z"
   },
   {
    "duration": 86,
    "start_time": "2023-07-02T10:30:17.732Z"
   },
   {
    "duration": 0,
    "start_time": "2023-07-02T10:30:17.820Z"
   },
   {
    "duration": 0,
    "start_time": "2023-07-02T10:30:17.821Z"
   },
   {
    "duration": 0,
    "start_time": "2023-07-02T10:30:17.824Z"
   },
   {
    "duration": 0,
    "start_time": "2023-07-02T10:30:17.825Z"
   },
   {
    "duration": 0,
    "start_time": "2023-07-02T10:30:17.827Z"
   },
   {
    "duration": 0,
    "start_time": "2023-07-02T10:30:17.828Z"
   },
   {
    "duration": 0,
    "start_time": "2023-07-02T10:30:17.830Z"
   },
   {
    "duration": 0,
    "start_time": "2023-07-02T10:30:17.832Z"
   },
   {
    "duration": 8,
    "start_time": "2023-07-02T10:30:51.662Z"
   },
   {
    "duration": 66,
    "start_time": "2023-07-02T10:33:33.223Z"
   },
   {
    "duration": 12,
    "start_time": "2023-07-02T10:33:35.192Z"
   },
   {
    "duration": 3,
    "start_time": "2023-07-02T10:33:35.800Z"
   },
   {
    "duration": 5,
    "start_time": "2023-07-02T10:33:36.253Z"
   },
   {
    "duration": 5,
    "start_time": "2023-07-02T10:33:36.893Z"
   },
   {
    "duration": 6,
    "start_time": "2023-07-02T10:33:37.397Z"
   },
   {
    "duration": 12,
    "start_time": "2023-07-02T10:34:20.633Z"
   },
   {
    "duration": 12,
    "start_time": "2023-07-02T10:34:22.763Z"
   },
   {
    "duration": 3,
    "start_time": "2023-07-02T10:34:23.192Z"
   },
   {
    "duration": 5,
    "start_time": "2023-07-02T10:34:23.592Z"
   },
   {
    "duration": 4,
    "start_time": "2023-07-02T10:34:24.024Z"
   },
   {
    "duration": 11,
    "start_time": "2023-07-02T10:34:24.715Z"
   },
   {
    "duration": 17,
    "start_time": "2023-07-02T10:34:33.096Z"
   },
   {
    "duration": 3,
    "start_time": "2023-07-02T10:34:33.463Z"
   },
   {
    "duration": 4,
    "start_time": "2023-07-02T10:34:33.901Z"
   },
   {
    "duration": 1471,
    "start_time": "2023-07-02T10:34:34.325Z"
   },
   {
    "duration": 0,
    "start_time": "2023-07-02T10:34:35.798Z"
   },
   {
    "duration": 13,
    "start_time": "2023-07-02T10:34:41.822Z"
   },
   {
    "duration": 3,
    "start_time": "2023-07-02T10:34:42.219Z"
   },
   {
    "duration": 3,
    "start_time": "2023-07-02T10:34:42.623Z"
   },
   {
    "duration": 3,
    "start_time": "2023-07-02T10:34:43.823Z"
   },
   {
    "duration": 7,
    "start_time": "2023-07-02T10:34:44.901Z"
   },
   {
    "duration": 15,
    "start_time": "2023-07-02T10:35:49.705Z"
   },
   {
    "duration": 3,
    "start_time": "2023-07-02T10:35:50.105Z"
   },
   {
    "duration": 4,
    "start_time": "2023-07-02T10:35:50.524Z"
   },
   {
    "duration": 4,
    "start_time": "2023-07-02T10:35:50.992Z"
   },
   {
    "duration": 9,
    "start_time": "2023-07-02T10:35:51.564Z"
   },
   {
    "duration": 13,
    "start_time": "2023-07-02T10:35:58.528Z"
   },
   {
    "duration": 2,
    "start_time": "2023-07-02T10:35:58.944Z"
   },
   {
    "duration": 4,
    "start_time": "2023-07-02T10:35:59.404Z"
   },
   {
    "duration": 4,
    "start_time": "2023-07-02T10:35:59.834Z"
   },
   {
    "duration": 9,
    "start_time": "2023-07-02T10:36:00.445Z"
   },
   {
    "duration": 538,
    "start_time": "2023-07-02T10:36:25.566Z"
   },
   {
    "duration": 7,
    "start_time": "2023-07-02T10:36:26.223Z"
   },
   {
    "duration": 20,
    "start_time": "2023-07-02T10:36:42.995Z"
   },
   {
    "duration": 3,
    "start_time": "2023-07-02T10:36:43.445Z"
   },
   {
    "duration": 6,
    "start_time": "2023-07-02T10:36:43.892Z"
   },
   {
    "duration": 298,
    "start_time": "2023-07-02T10:36:44.517Z"
   },
   {
    "duration": 7,
    "start_time": "2023-07-02T10:36:47.097Z"
   },
   {
    "duration": 4,
    "start_time": "2023-07-02T10:37:04.395Z"
   },
   {
    "duration": 7,
    "start_time": "2023-07-02T10:37:05.810Z"
   },
   {
    "duration": 4,
    "start_time": "2023-07-02T10:37:08.914Z"
   },
   {
    "duration": 3,
    "start_time": "2023-07-02T10:37:09.377Z"
   },
   {
    "duration": 7,
    "start_time": "2023-07-02T10:37:09.955Z"
   },
   {
    "duration": 14,
    "start_time": "2023-07-02T10:37:20.544Z"
   },
   {
    "duration": 3,
    "start_time": "2023-07-02T10:37:21.008Z"
   },
   {
    "duration": 6,
    "start_time": "2023-07-02T10:37:21.424Z"
   },
   {
    "duration": 4,
    "start_time": "2023-07-02T10:37:21.924Z"
   },
   {
    "duration": 8,
    "start_time": "2023-07-02T10:37:22.525Z"
   },
   {
    "duration": 13,
    "start_time": "2023-07-02T10:37:28.944Z"
   },
   {
    "duration": 3,
    "start_time": "2023-07-02T10:37:29.397Z"
   },
   {
    "duration": 5,
    "start_time": "2023-07-02T10:37:29.789Z"
   },
   {
    "duration": 4,
    "start_time": "2023-07-02T10:37:30.308Z"
   },
   {
    "duration": 8,
    "start_time": "2023-07-02T10:37:30.944Z"
   },
   {
    "duration": 20,
    "start_time": "2023-07-02T10:39:07.811Z"
   },
   {
    "duration": 14,
    "start_time": "2023-07-02T10:39:11.615Z"
   },
   {
    "duration": 2,
    "start_time": "2023-07-02T10:39:29.366Z"
   },
   {
    "duration": 2,
    "start_time": "2023-07-02T10:39:29.817Z"
   },
   {
    "duration": 3,
    "start_time": "2023-07-02T10:39:30.244Z"
   },
   {
    "duration": 2,
    "start_time": "2023-07-02T10:39:30.709Z"
   },
   {
    "duration": 2,
    "start_time": "2023-07-02T10:39:31.267Z"
   },
   {
    "duration": 20,
    "start_time": "2023-07-02T10:40:01.509Z"
   },
   {
    "duration": 22,
    "start_time": "2023-07-02T10:40:15.337Z"
   },
   {
    "duration": 1312,
    "start_time": "2023-07-02T10:40:45.216Z"
   },
   {
    "duration": 1128,
    "start_time": "2023-07-02T10:40:47.393Z"
   },
   {
    "duration": 20,
    "start_time": "2023-07-02T10:40:59.409Z"
   },
   {
    "duration": 481,
    "start_time": "2023-07-02T10:41:24.693Z"
   },
   {
    "duration": 21,
    "start_time": "2023-07-02T10:41:25.175Z"
   },
   {
    "duration": 13,
    "start_time": "2023-07-02T10:41:25.197Z"
   },
   {
    "duration": 23,
    "start_time": "2023-07-02T10:41:25.212Z"
   },
   {
    "duration": 37,
    "start_time": "2023-07-02T10:41:25.237Z"
   },
   {
    "duration": 4,
    "start_time": "2023-07-02T10:41:25.276Z"
   },
   {
    "duration": 12,
    "start_time": "2023-07-02T10:41:25.282Z"
   },
   {
    "duration": 8,
    "start_time": "2023-07-02T10:41:25.296Z"
   },
   {
    "duration": 27,
    "start_time": "2023-07-02T10:41:25.305Z"
   },
   {
    "duration": 5,
    "start_time": "2023-07-02T10:41:25.336Z"
   },
   {
    "duration": 33,
    "start_time": "2023-07-02T10:41:25.342Z"
   },
   {
    "duration": 10,
    "start_time": "2023-07-02T10:41:25.376Z"
   },
   {
    "duration": 9,
    "start_time": "2023-07-02T10:41:25.388Z"
   },
   {
    "duration": 12,
    "start_time": "2023-07-02T10:41:25.399Z"
   },
   {
    "duration": 38,
    "start_time": "2023-07-02T10:41:25.412Z"
   },
   {
    "duration": 16,
    "start_time": "2023-07-02T10:41:25.451Z"
   },
   {
    "duration": 3,
    "start_time": "2023-07-02T10:41:25.469Z"
   },
   {
    "duration": 21,
    "start_time": "2023-07-02T10:41:25.474Z"
   },
   {
    "duration": 6,
    "start_time": "2023-07-02T10:41:25.496Z"
   },
   {
    "duration": 4,
    "start_time": "2023-07-02T10:41:25.504Z"
   },
   {
    "duration": 14,
    "start_time": "2023-07-02T10:41:25.531Z"
   },
   {
    "duration": 7,
    "start_time": "2023-07-02T10:41:25.547Z"
   },
   {
    "duration": 20,
    "start_time": "2023-07-02T10:41:25.556Z"
   },
   {
    "duration": 3,
    "start_time": "2023-07-02T10:41:25.577Z"
   },
   {
    "duration": 11,
    "start_time": "2023-07-02T10:41:25.581Z"
   },
   {
    "duration": 12,
    "start_time": "2023-07-02T10:41:25.593Z"
   },
   {
    "duration": 10,
    "start_time": "2023-07-02T10:41:25.607Z"
   },
   {
    "duration": 7,
    "start_time": "2023-07-02T10:41:25.631Z"
   },
   {
    "duration": 7,
    "start_time": "2023-07-02T10:41:25.639Z"
   },
   {
    "duration": 6,
    "start_time": "2023-07-02T10:41:25.647Z"
   },
   {
    "duration": 5,
    "start_time": "2023-07-02T10:41:25.655Z"
   },
   {
    "duration": 7,
    "start_time": "2023-07-02T10:41:25.663Z"
   },
   {
    "duration": 5,
    "start_time": "2023-07-02T10:41:25.671Z"
   },
   {
    "duration": 29,
    "start_time": "2023-07-02T10:41:25.678Z"
   },
   {
    "duration": 2,
    "start_time": "2023-07-02T10:41:25.708Z"
   },
   {
    "duration": 6,
    "start_time": "2023-07-02T10:41:25.712Z"
   },
   {
    "duration": 80,
    "start_time": "2023-07-02T10:41:25.732Z"
   },
   {
    "duration": 0,
    "start_time": "2023-07-02T10:44:00.749Z"
   },
   {
    "duration": 1439,
    "start_time": "2023-07-02T10:44:01.938Z"
   },
   {
    "duration": 28,
    "start_time": "2023-07-02T10:44:06.497Z"
   },
   {
    "duration": 30,
    "start_time": "2023-07-02T10:44:20.429Z"
   },
   {
    "duration": 20,
    "start_time": "2023-07-02T10:44:30.139Z"
   },
   {
    "duration": 14,
    "start_time": "2023-07-02T10:46:52.912Z"
   },
   {
    "duration": 4,
    "start_time": "2023-07-02T10:46:53.409Z"
   },
   {
    "duration": 5,
    "start_time": "2023-07-02T10:46:53.893Z"
   },
   {
    "duration": 3,
    "start_time": "2023-07-02T10:46:54.413Z"
   },
   {
    "duration": 8,
    "start_time": "2023-07-02T10:46:54.940Z"
   },
   {
    "duration": 12,
    "start_time": "2023-07-02T11:19:05.925Z"
   },
   {
    "duration": 2,
    "start_time": "2023-07-02T11:19:06.390Z"
   },
   {
    "duration": 5,
    "start_time": "2023-07-02T11:19:06.814Z"
   },
   {
    "duration": 4,
    "start_time": "2023-07-02T11:19:07.254Z"
   },
   {
    "duration": 8,
    "start_time": "2023-07-02T11:19:08.044Z"
   },
   {
    "duration": 4,
    "start_time": "2023-07-02T11:40:33.082Z"
   },
   {
    "duration": 408,
    "start_time": "2023-07-02T11:40:46.488Z"
   },
   {
    "duration": 20,
    "start_time": "2023-07-02T11:40:46.898Z"
   },
   {
    "duration": 31,
    "start_time": "2023-07-02T11:40:46.920Z"
   },
   {
    "duration": 10,
    "start_time": "2023-07-02T11:40:46.953Z"
   },
   {
    "duration": 44,
    "start_time": "2023-07-02T11:40:46.964Z"
   },
   {
    "duration": 4,
    "start_time": "2023-07-02T11:40:47.010Z"
   },
   {
    "duration": 15,
    "start_time": "2023-07-02T11:40:47.016Z"
   },
   {
    "duration": 5,
    "start_time": "2023-07-02T11:40:47.033Z"
   },
   {
    "duration": 13,
    "start_time": "2023-07-02T11:40:47.040Z"
   },
   {
    "duration": 12,
    "start_time": "2023-07-02T11:40:47.054Z"
   },
   {
    "duration": 37,
    "start_time": "2023-07-02T11:40:47.067Z"
   },
   {
    "duration": 10,
    "start_time": "2023-07-02T11:40:47.105Z"
   },
   {
    "duration": 16,
    "start_time": "2023-07-02T11:40:47.116Z"
   },
   {
    "duration": 29,
    "start_time": "2023-07-02T11:40:47.134Z"
   },
   {
    "duration": 32,
    "start_time": "2023-07-02T11:40:47.165Z"
   },
   {
    "duration": 17,
    "start_time": "2023-07-02T11:40:47.198Z"
   },
   {
    "duration": 4,
    "start_time": "2023-07-02T11:40:47.216Z"
   },
   {
    "duration": 15,
    "start_time": "2023-07-02T11:40:47.221Z"
   },
   {
    "duration": 26,
    "start_time": "2023-07-02T11:40:47.237Z"
   },
   {
    "duration": 17,
    "start_time": "2023-07-02T11:40:47.264Z"
   },
   {
    "duration": 27,
    "start_time": "2023-07-02T11:40:47.283Z"
   },
   {
    "duration": 13,
    "start_time": "2023-07-02T11:40:47.312Z"
   },
   {
    "duration": 25,
    "start_time": "2023-07-02T11:40:47.327Z"
   },
   {
    "duration": 5,
    "start_time": "2023-07-02T11:40:47.353Z"
   },
   {
    "duration": 18,
    "start_time": "2023-07-02T11:40:47.359Z"
   },
   {
    "duration": 23,
    "start_time": "2023-07-02T11:40:47.379Z"
   },
   {
    "duration": 14,
    "start_time": "2023-07-02T11:40:47.404Z"
   },
   {
    "duration": 26,
    "start_time": "2023-07-02T11:40:47.419Z"
   },
   {
    "duration": 20,
    "start_time": "2023-07-02T11:40:47.447Z"
   },
   {
    "duration": 3,
    "start_time": "2023-07-02T11:40:47.468Z"
   },
   {
    "duration": 15,
    "start_time": "2023-07-02T11:40:47.472Z"
   },
   {
    "duration": 13,
    "start_time": "2023-07-02T11:40:47.488Z"
   },
   {
    "duration": 35,
    "start_time": "2023-07-02T11:40:47.503Z"
   },
   {
    "duration": 19,
    "start_time": "2023-07-02T11:40:47.539Z"
   },
   {
    "duration": 11,
    "start_time": "2023-07-02T11:40:47.560Z"
   },
   {
    "duration": 4,
    "start_time": "2023-07-02T11:40:47.573Z"
   },
   {
    "duration": 13,
    "start_time": "2023-07-02T12:00:56.124Z"
   },
   {
    "duration": 3,
    "start_time": "2023-07-02T12:00:56.448Z"
   },
   {
    "duration": 4,
    "start_time": "2023-07-02T12:00:56.793Z"
   },
   {
    "duration": 3,
    "start_time": "2023-07-02T12:00:57.208Z"
   },
   {
    "duration": 7,
    "start_time": "2023-07-02T12:00:58.000Z"
   },
   {
    "duration": 60,
    "start_time": "2023-07-02T12:08:29.857Z"
   },
   {
    "duration": 8,
    "start_time": "2023-07-02T12:08:53.707Z"
   },
   {
    "duration": 7,
    "start_time": "2023-07-02T12:10:26.197Z"
   },
   {
    "duration": 467,
    "start_time": "2023-07-02T12:10:45.102Z"
   },
   {
    "duration": 20,
    "start_time": "2023-07-02T12:10:45.571Z"
   },
   {
    "duration": 54,
    "start_time": "2023-07-02T12:10:45.592Z"
   },
   {
    "duration": 28,
    "start_time": "2023-07-02T12:10:45.649Z"
   },
   {
    "duration": 50,
    "start_time": "2023-07-02T12:10:45.679Z"
   },
   {
    "duration": 3,
    "start_time": "2023-07-02T12:10:45.730Z"
   },
   {
    "duration": 29,
    "start_time": "2023-07-02T12:10:45.735Z"
   },
   {
    "duration": 23,
    "start_time": "2023-07-02T12:10:45.766Z"
   },
   {
    "duration": 30,
    "start_time": "2023-07-02T12:10:45.790Z"
   },
   {
    "duration": 19,
    "start_time": "2023-07-02T12:10:45.823Z"
   },
   {
    "duration": 52,
    "start_time": "2023-07-02T12:10:45.843Z"
   },
   {
    "duration": 9,
    "start_time": "2023-07-02T12:10:45.897Z"
   },
   {
    "duration": 9,
    "start_time": "2023-07-02T12:10:45.907Z"
   },
   {
    "duration": 42,
    "start_time": "2023-07-02T12:10:45.917Z"
   },
   {
    "duration": 27,
    "start_time": "2023-07-02T12:10:45.961Z"
   },
   {
    "duration": 36,
    "start_time": "2023-07-02T12:10:45.989Z"
   },
   {
    "duration": 12,
    "start_time": "2023-07-02T12:10:46.027Z"
   },
   {
    "duration": 26,
    "start_time": "2023-07-02T12:10:46.040Z"
   },
   {
    "duration": 44,
    "start_time": "2023-07-02T12:10:46.067Z"
   },
   {
    "duration": 12,
    "start_time": "2023-07-02T12:10:46.113Z"
   },
   {
    "duration": 42,
    "start_time": "2023-07-02T12:10:46.126Z"
   },
   {
    "duration": 25,
    "start_time": "2023-07-02T12:10:46.170Z"
   },
   {
    "duration": 20,
    "start_time": "2023-07-02T12:10:46.196Z"
   },
   {
    "duration": 16,
    "start_time": "2023-07-02T12:10:46.218Z"
   },
   {
    "duration": 18,
    "start_time": "2023-07-02T12:10:46.235Z"
   },
   {
    "duration": 57,
    "start_time": "2023-07-02T12:10:46.255Z"
   },
   {
    "duration": 53,
    "start_time": "2023-07-02T12:10:46.314Z"
   },
   {
    "duration": 16,
    "start_time": "2023-07-02T12:10:46.371Z"
   },
   {
    "duration": 41,
    "start_time": "2023-07-02T12:10:46.388Z"
   },
   {
    "duration": 5,
    "start_time": "2023-07-02T12:10:46.430Z"
   },
   {
    "duration": 46,
    "start_time": "2023-07-02T12:10:46.436Z"
   },
   {
    "duration": 19,
    "start_time": "2023-07-02T12:10:46.484Z"
   },
   {
    "duration": 58,
    "start_time": "2023-07-02T12:10:46.505Z"
   },
   {
    "duration": 88,
    "start_time": "2023-07-02T12:10:46.565Z"
   },
   {
    "duration": 0,
    "start_time": "2023-07-02T12:10:46.655Z"
   },
   {
    "duration": 0,
    "start_time": "2023-07-02T12:10:46.656Z"
   },
   {
    "duration": 7,
    "start_time": "2023-07-02T12:10:54.549Z"
   },
   {
    "duration": 7,
    "start_time": "2023-07-02T12:10:56.057Z"
   },
   {
    "duration": 7,
    "start_time": "2023-07-02T12:11:00.727Z"
   },
   {
    "duration": 2,
    "start_time": "2023-07-02T12:11:14.820Z"
   },
   {
    "duration": 3,
    "start_time": "2023-07-02T12:19:05.622Z"
   },
   {
    "duration": 7,
    "start_time": "2023-07-02T12:19:06.293Z"
   },
   {
    "duration": 7,
    "start_time": "2023-07-02T12:19:28.443Z"
   },
   {
    "duration": 8,
    "start_time": "2023-07-02T12:20:04.034Z"
   },
   {
    "duration": 12,
    "start_time": "2023-07-02T12:20:14.745Z"
   },
   {
    "duration": 3,
    "start_time": "2023-07-02T12:25:48.745Z"
   },
   {
    "duration": 9,
    "start_time": "2023-07-02T12:25:49.404Z"
   },
   {
    "duration": 15,
    "start_time": "2023-07-02T12:39:04.605Z"
   },
   {
    "duration": 16,
    "start_time": "2023-07-02T12:39:17.012Z"
   },
   {
    "duration": 8,
    "start_time": "2023-07-02T12:40:08.163Z"
   },
   {
    "duration": 11,
    "start_time": "2023-07-02T12:40:21.073Z"
   },
   {
    "duration": 9,
    "start_time": "2023-07-02T12:42:19.724Z"
   },
   {
    "duration": 7,
    "start_time": "2023-07-02T12:42:43.845Z"
   },
   {
    "duration": 16,
    "start_time": "2023-07-02T12:43:40.829Z"
   },
   {
    "duration": 241,
    "start_time": "2023-07-02T14:11:01.439Z"
   },
   {
    "duration": 880,
    "start_time": "2023-07-02T14:11:54.628Z"
   },
   {
    "duration": 15,
    "start_time": "2023-07-02T14:12:44.939Z"
   },
   {
    "duration": 3,
    "start_time": "2023-07-02T14:12:45.511Z"
   },
   {
    "duration": 5,
    "start_time": "2023-07-02T14:12:46.899Z"
   },
   {
    "duration": 12,
    "start_time": "2023-07-02T14:15:29.223Z"
   },
   {
    "duration": 3,
    "start_time": "2023-07-02T14:15:29.748Z"
   },
   {
    "duration": 6,
    "start_time": "2023-07-02T14:15:30.371Z"
   },
   {
    "duration": 4,
    "start_time": "2023-07-02T14:15:31.039Z"
   },
   {
    "duration": 7,
    "start_time": "2023-07-02T14:15:31.717Z"
   },
   {
    "duration": 3,
    "start_time": "2023-07-02T14:39:42.012Z"
   },
   {
    "duration": 3,
    "start_time": "2023-07-02T14:39:49.830Z"
   },
   {
    "duration": 7,
    "start_time": "2023-07-02T14:39:50.602Z"
   },
   {
    "duration": 5,
    "start_time": "2023-07-02T14:46:33.413Z"
   },
   {
    "duration": 2,
    "start_time": "2023-07-02T14:46:59.917Z"
   },
   {
    "duration": 15,
    "start_time": "2023-07-02T14:48:12.049Z"
   },
   {
    "duration": 15,
    "start_time": "2023-07-02T14:48:47.266Z"
   },
   {
    "duration": 4,
    "start_time": "2023-07-02T15:06:09.604Z"
   },
   {
    "duration": 4,
    "start_time": "2023-07-02T15:08:29.353Z"
   },
   {
    "duration": 6,
    "start_time": "2023-07-02T15:08:29.894Z"
   },
   {
    "duration": 9,
    "start_time": "2023-07-02T15:09:08.054Z"
   },
   {
    "duration": 8,
    "start_time": "2023-07-02T15:09:14.896Z"
   },
   {
    "duration": 9,
    "start_time": "2023-07-02T15:11:44.388Z"
   },
   {
    "duration": 9,
    "start_time": "2023-07-02T15:11:55.417Z"
   },
   {
    "duration": 6,
    "start_time": "2023-07-02T15:14:38.068Z"
   },
   {
    "duration": 3,
    "start_time": "2023-07-02T15:22:18.031Z"
   },
   {
    "duration": 7,
    "start_time": "2023-07-02T15:22:18.641Z"
   },
   {
    "duration": 14,
    "start_time": "2023-07-02T15:26:00.691Z"
   },
   {
    "duration": 2,
    "start_time": "2023-07-02T15:26:46.618Z"
   },
   {
    "duration": 5,
    "start_time": "2023-07-02T15:27:55.119Z"
   },
   {
    "duration": 4,
    "start_time": "2023-07-02T15:28:22.624Z"
   },
   {
    "duration": 7,
    "start_time": "2023-07-02T15:29:05.844Z"
   },
   {
    "duration": 14,
    "start_time": "2023-07-02T16:22:16.021Z"
   },
   {
    "duration": 18,
    "start_time": "2023-07-02T16:25:47.353Z"
   },
   {
    "duration": 15,
    "start_time": "2023-07-02T16:26:19.442Z"
   },
   {
    "duration": 12,
    "start_time": "2023-07-02T16:26:26.222Z"
   },
   {
    "duration": 7,
    "start_time": "2023-07-02T17:16:36.817Z"
   },
   {
    "duration": 14,
    "start_time": "2023-07-02T17:16:38.762Z"
   },
   {
    "duration": 2,
    "start_time": "2023-07-02T17:16:39.797Z"
   },
   {
    "duration": 5,
    "start_time": "2023-07-02T17:18:04.316Z"
   },
   {
    "duration": 3,
    "start_time": "2023-07-02T17:18:45.117Z"
   },
   {
    "duration": 8,
    "start_time": "2023-07-02T17:19:07.858Z"
   },
   {
    "duration": 589,
    "start_time": "2023-07-02T20:17:48.342Z"
   },
   {
    "duration": 33,
    "start_time": "2023-07-02T20:17:48.933Z"
   },
   {
    "duration": 19,
    "start_time": "2023-07-02T20:17:48.969Z"
   },
   {
    "duration": 8,
    "start_time": "2023-07-02T20:17:48.991Z"
   },
   {
    "duration": 36,
    "start_time": "2023-07-02T20:17:49.001Z"
   },
   {
    "duration": 3,
    "start_time": "2023-07-02T20:17:49.039Z"
   },
   {
    "duration": 34,
    "start_time": "2023-07-02T20:17:49.043Z"
   },
   {
    "duration": 5,
    "start_time": "2023-07-02T20:17:49.078Z"
   },
   {
    "duration": 9,
    "start_time": "2023-07-02T20:17:49.084Z"
   },
   {
    "duration": 4,
    "start_time": "2023-07-02T20:17:49.096Z"
   },
   {
    "duration": 30,
    "start_time": "2023-07-02T20:17:49.101Z"
   },
   {
    "duration": 34,
    "start_time": "2023-07-02T20:17:49.133Z"
   },
   {
    "duration": 6,
    "start_time": "2023-07-02T20:17:49.169Z"
   },
   {
    "duration": 12,
    "start_time": "2023-07-02T20:17:49.177Z"
   },
   {
    "duration": 19,
    "start_time": "2023-07-02T20:17:49.191Z"
   },
   {
    "duration": 18,
    "start_time": "2023-07-02T20:17:49.212Z"
   },
   {
    "duration": 30,
    "start_time": "2023-07-02T20:17:49.232Z"
   },
   {
    "duration": 19,
    "start_time": "2023-07-02T20:17:49.265Z"
   },
   {
    "duration": 9,
    "start_time": "2023-07-02T20:17:49.286Z"
   },
   {
    "duration": 4,
    "start_time": "2023-07-02T20:17:49.296Z"
   },
   {
    "duration": 15,
    "start_time": "2023-07-02T20:17:49.301Z"
   },
   {
    "duration": 6,
    "start_time": "2023-07-02T20:17:49.318Z"
   },
   {
    "duration": 11,
    "start_time": "2023-07-02T20:17:49.325Z"
   },
   {
    "duration": 4,
    "start_time": "2023-07-02T20:17:49.338Z"
   },
   {
    "duration": 13,
    "start_time": "2023-07-02T20:17:49.360Z"
   },
   {
    "duration": 21,
    "start_time": "2023-07-02T20:17:49.375Z"
   },
   {
    "duration": 11,
    "start_time": "2023-07-02T20:17:49.398Z"
   },
   {
    "duration": 7,
    "start_time": "2023-07-02T20:17:49.412Z"
   },
   {
    "duration": 20,
    "start_time": "2023-07-02T20:17:49.420Z"
   },
   {
    "duration": 3,
    "start_time": "2023-07-02T20:17:49.441Z"
   },
   {
    "duration": 20,
    "start_time": "2023-07-02T20:17:49.445Z"
   },
   {
    "duration": 3,
    "start_time": "2023-07-02T20:17:49.467Z"
   },
   {
    "duration": 10,
    "start_time": "2023-07-02T20:17:49.476Z"
   },
   {
    "duration": 5,
    "start_time": "2023-07-02T20:17:49.488Z"
   },
   {
    "duration": 10,
    "start_time": "2023-07-02T20:17:49.494Z"
   },
   {
    "duration": 19,
    "start_time": "2023-07-02T20:17:49.505Z"
   },
   {
    "duration": 43,
    "start_time": "2023-07-02T20:17:49.526Z"
   },
   {
    "duration": 6,
    "start_time": "2023-07-02T20:17:49.570Z"
   },
   {
    "duration": 9,
    "start_time": "2023-07-02T20:17:49.578Z"
   },
   {
    "duration": 7,
    "start_time": "2023-07-02T20:17:49.589Z"
   },
   {
    "duration": 14,
    "start_time": "2023-07-02T20:17:49.597Z"
   },
   {
    "duration": 10,
    "start_time": "2023-07-02T20:17:49.612Z"
   },
   {
    "duration": 10,
    "start_time": "2023-07-02T20:17:49.624Z"
   },
   {
    "duration": 24,
    "start_time": "2023-07-02T20:17:49.635Z"
   },
   {
    "duration": 19,
    "start_time": "2023-07-02T20:17:49.664Z"
   },
   {
    "duration": 3,
    "start_time": "2023-07-02T20:17:49.684Z"
   },
   {
    "duration": 6,
    "start_time": "2023-07-02T20:17:49.688Z"
   },
   {
    "duration": 6,
    "start_time": "2023-07-02T20:17:49.696Z"
   },
   {
    "duration": 13,
    "start_time": "2023-07-02T20:17:49.703Z"
   },
   {
    "duration": 16,
    "start_time": "2023-07-02T20:17:49.718Z"
   },
   {
    "duration": 34,
    "start_time": "2023-07-02T20:17:49.735Z"
   },
   {
    "duration": 3,
    "start_time": "2023-07-02T20:17:49.771Z"
   },
   {
    "duration": 4,
    "start_time": "2023-07-02T20:17:49.777Z"
   },
   {
    "duration": 21,
    "start_time": "2023-07-02T20:17:49.782Z"
   },
   {
    "duration": 17,
    "start_time": "2023-07-02T20:17:49.805Z"
   },
   {
    "duration": 4,
    "start_time": "2023-07-02T22:08:21.691Z"
   },
   {
    "duration": 7,
    "start_time": "2023-07-02T22:08:22.633Z"
   },
   {
    "duration": 516,
    "start_time": "2023-07-02T22:09:00.215Z"
   },
   {
    "duration": 35,
    "start_time": "2023-07-02T22:09:00.733Z"
   },
   {
    "duration": 45,
    "start_time": "2023-07-02T22:09:00.770Z"
   },
   {
    "duration": 35,
    "start_time": "2023-07-02T22:09:00.818Z"
   },
   {
    "duration": 81,
    "start_time": "2023-07-02T22:09:00.855Z"
   },
   {
    "duration": 49,
    "start_time": "2023-07-02T22:09:00.938Z"
   },
   {
    "duration": 120,
    "start_time": "2023-07-02T22:09:00.990Z"
   },
   {
    "duration": 66,
    "start_time": "2023-07-02T22:09:01.113Z"
   },
   {
    "duration": 51,
    "start_time": "2023-07-02T22:09:01.181Z"
   },
   {
    "duration": 100,
    "start_time": "2023-07-02T22:09:01.234Z"
   },
   {
    "duration": 146,
    "start_time": "2023-07-02T22:09:01.336Z"
   },
   {
    "duration": 36,
    "start_time": "2023-07-02T22:09:01.487Z"
   },
   {
    "duration": 16,
    "start_time": "2023-07-02T22:09:01.525Z"
   },
   {
    "duration": 65,
    "start_time": "2023-07-02T22:09:01.546Z"
   },
   {
    "duration": 64,
    "start_time": "2023-07-02T22:09:01.613Z"
   },
   {
    "duration": 29,
    "start_time": "2023-07-02T22:09:01.683Z"
   },
   {
    "duration": 4,
    "start_time": "2023-07-02T22:09:01.714Z"
   },
   {
    "duration": 90,
    "start_time": "2023-07-02T22:09:01.720Z"
   },
   {
    "duration": 24,
    "start_time": "2023-07-02T22:09:01.813Z"
   },
   {
    "duration": 46,
    "start_time": "2023-07-02T22:09:01.839Z"
   },
   {
    "duration": 35,
    "start_time": "2023-07-02T22:09:01.887Z"
   },
   {
    "duration": 50,
    "start_time": "2023-07-02T22:09:01.924Z"
   },
   {
    "duration": 65,
    "start_time": "2023-07-02T22:09:01.976Z"
   },
   {
    "duration": 35,
    "start_time": "2023-07-02T22:09:02.043Z"
   },
   {
    "duration": 45,
    "start_time": "2023-07-02T22:09:02.081Z"
   },
   {
    "duration": 50,
    "start_time": "2023-07-02T22:09:02.129Z"
   },
   {
    "duration": 30,
    "start_time": "2023-07-02T22:09:02.181Z"
   },
   {
    "duration": 22,
    "start_time": "2023-07-02T22:09:02.213Z"
   },
   {
    "duration": 19,
    "start_time": "2023-07-02T22:09:02.237Z"
   },
   {
    "duration": 8,
    "start_time": "2023-07-02T22:09:02.260Z"
   },
   {
    "duration": 15,
    "start_time": "2023-07-02T22:09:02.272Z"
   },
   {
    "duration": 11,
    "start_time": "2023-07-02T22:09:02.290Z"
   },
   {
    "duration": 16,
    "start_time": "2023-07-02T22:09:02.303Z"
   },
   {
    "duration": 7,
    "start_time": "2023-07-02T22:09:02.321Z"
   },
   {
    "duration": 24,
    "start_time": "2023-07-02T22:09:02.330Z"
   },
   {
    "duration": 21,
    "start_time": "2023-07-02T22:09:02.356Z"
   },
   {
    "duration": 18,
    "start_time": "2023-07-02T22:09:02.379Z"
   },
   {
    "duration": 7,
    "start_time": "2023-07-02T22:09:02.399Z"
   },
   {
    "duration": 13,
    "start_time": "2023-07-02T22:09:02.408Z"
   },
   {
    "duration": 31,
    "start_time": "2023-07-02T22:09:02.423Z"
   },
   {
    "duration": 19,
    "start_time": "2023-07-02T22:09:02.459Z"
   },
   {
    "duration": 19,
    "start_time": "2023-07-02T22:09:02.481Z"
   },
   {
    "duration": 12,
    "start_time": "2023-07-02T22:09:02.502Z"
   },
   {
    "duration": 27,
    "start_time": "2023-07-02T22:09:02.515Z"
   },
   {
    "duration": 13,
    "start_time": "2023-07-02T22:09:02.544Z"
   },
   {
    "duration": 4,
    "start_time": "2023-07-02T22:09:02.559Z"
   },
   {
    "duration": 26,
    "start_time": "2023-07-02T22:09:02.565Z"
   },
   {
    "duration": 18,
    "start_time": "2023-07-02T22:09:02.593Z"
   },
   {
    "duration": 19,
    "start_time": "2023-07-02T22:09:02.613Z"
   },
   {
    "duration": 31,
    "start_time": "2023-07-02T22:09:02.635Z"
   },
   {
    "duration": 19,
    "start_time": "2023-07-02T22:09:02.672Z"
   },
   {
    "duration": 3,
    "start_time": "2023-07-02T22:09:02.693Z"
   },
   {
    "duration": 25,
    "start_time": "2023-07-02T22:09:02.697Z"
   },
   {
    "duration": 24,
    "start_time": "2023-07-02T22:09:02.724Z"
   },
   {
    "duration": 24,
    "start_time": "2023-07-02T22:09:02.750Z"
   },
   {
    "duration": 605,
    "start_time": "2023-07-02T22:47:07.151Z"
   },
   {
    "duration": 28,
    "start_time": "2023-07-02T22:47:07.758Z"
   },
   {
    "duration": 14,
    "start_time": "2023-07-02T22:47:07.788Z"
   },
   {
    "duration": 8,
    "start_time": "2023-07-02T22:47:07.805Z"
   },
   {
    "duration": 75,
    "start_time": "2023-07-02T22:47:07.814Z"
   },
   {
    "duration": 5,
    "start_time": "2023-07-02T22:47:07.891Z"
   },
   {
    "duration": 14,
    "start_time": "2023-07-02T22:47:07.898Z"
   },
   {
    "duration": 31,
    "start_time": "2023-07-02T22:47:07.914Z"
   },
   {
    "duration": 7,
    "start_time": "2023-07-02T22:47:07.947Z"
   },
   {
    "duration": 4,
    "start_time": "2023-07-02T22:47:07.957Z"
   },
   {
    "duration": 68,
    "start_time": "2023-07-02T22:47:07.962Z"
   },
   {
    "duration": 10,
    "start_time": "2023-07-02T22:47:08.032Z"
   },
   {
    "duration": 4,
    "start_time": "2023-07-02T22:47:08.043Z"
   },
   {
    "duration": 30,
    "start_time": "2023-07-02T22:47:08.048Z"
   },
   {
    "duration": 23,
    "start_time": "2023-07-02T22:47:08.079Z"
   },
   {
    "duration": 17,
    "start_time": "2023-07-02T22:47:08.103Z"
   },
   {
    "duration": 3,
    "start_time": "2023-07-02T22:47:08.122Z"
   },
   {
    "duration": 47,
    "start_time": "2023-07-02T22:47:08.126Z"
   },
   {
    "duration": 12,
    "start_time": "2023-07-02T22:47:08.175Z"
   },
   {
    "duration": 5,
    "start_time": "2023-07-02T22:47:08.189Z"
   },
   {
    "duration": 11,
    "start_time": "2023-07-02T22:47:08.195Z"
   },
   {
    "duration": 13,
    "start_time": "2023-07-02T22:47:08.208Z"
   },
   {
    "duration": 41,
    "start_time": "2023-07-02T22:47:08.223Z"
   },
   {
    "duration": 8,
    "start_time": "2023-07-02T22:47:08.265Z"
   },
   {
    "duration": 9,
    "start_time": "2023-07-02T22:47:08.274Z"
   },
   {
    "duration": 25,
    "start_time": "2023-07-02T22:47:08.284Z"
   },
   {
    "duration": 14,
    "start_time": "2023-07-02T22:47:08.310Z"
   },
   {
    "duration": 19,
    "start_time": "2023-07-02T22:47:08.327Z"
   },
   {
    "duration": 26,
    "start_time": "2023-07-02T22:47:08.347Z"
   },
   {
    "duration": 13,
    "start_time": "2023-07-02T22:47:08.376Z"
   },
   {
    "duration": 18,
    "start_time": "2023-07-02T22:47:08.391Z"
   },
   {
    "duration": 10,
    "start_time": "2023-07-02T22:47:08.411Z"
   },
   {
    "duration": 10,
    "start_time": "2023-07-02T22:47:08.422Z"
   },
   {
    "duration": 5,
    "start_time": "2023-07-02T22:47:08.434Z"
   },
   {
    "duration": 11,
    "start_time": "2023-07-02T22:47:08.441Z"
   },
   {
    "duration": 27,
    "start_time": "2023-07-02T22:47:08.453Z"
   },
   {
    "duration": 18,
    "start_time": "2023-07-02T22:47:08.483Z"
   },
   {
    "duration": 3,
    "start_time": "2023-07-02T22:47:08.503Z"
   },
   {
    "duration": 5,
    "start_time": "2023-07-02T22:47:08.508Z"
   },
   {
    "duration": 9,
    "start_time": "2023-07-02T22:47:08.515Z"
   },
   {
    "duration": 52,
    "start_time": "2023-07-02T22:47:08.526Z"
   },
   {
    "duration": 8,
    "start_time": "2023-07-02T22:47:08.580Z"
   },
   {
    "duration": 26,
    "start_time": "2023-07-02T22:47:08.589Z"
   },
   {
    "duration": 35,
    "start_time": "2023-07-02T22:47:08.616Z"
   },
   {
    "duration": 22,
    "start_time": "2023-07-02T22:47:08.653Z"
   },
   {
    "duration": 3,
    "start_time": "2023-07-02T22:47:08.677Z"
   },
   {
    "duration": 9,
    "start_time": "2023-07-02T22:47:08.684Z"
   },
   {
    "duration": 12,
    "start_time": "2023-07-02T22:47:08.694Z"
   },
   {
    "duration": 26,
    "start_time": "2023-07-02T22:47:08.708Z"
   },
   {
    "duration": 37,
    "start_time": "2023-07-02T22:47:08.737Z"
   },
   {
    "duration": 16,
    "start_time": "2023-07-02T22:47:08.778Z"
   },
   {
    "duration": 4,
    "start_time": "2023-07-02T22:47:08.795Z"
   },
   {
    "duration": 11,
    "start_time": "2023-07-02T22:47:08.801Z"
   },
   {
    "duration": 22,
    "start_time": "2023-07-02T22:47:08.814Z"
   },
   {
    "duration": 12,
    "start_time": "2023-07-02T22:47:08.837Z"
   },
   {
    "duration": 109,
    "start_time": "2023-07-02T23:44:12.963Z"
   },
   {
    "duration": 563,
    "start_time": "2023-07-04T22:05:00.911Z"
   },
   {
    "duration": 26,
    "start_time": "2023-07-04T22:05:01.476Z"
   },
   {
    "duration": 79,
    "start_time": "2023-07-04T22:05:01.504Z"
   },
   {
    "duration": 101,
    "start_time": "2023-07-04T22:05:01.587Z"
   },
   {
    "duration": 91,
    "start_time": "2023-07-04T22:05:01.690Z"
   },
   {
    "duration": 5,
    "start_time": "2023-07-04T22:05:01.783Z"
   },
   {
    "duration": 63,
    "start_time": "2023-07-04T22:05:01.790Z"
   },
   {
    "duration": 83,
    "start_time": "2023-07-04T22:05:01.854Z"
   },
   {
    "duration": 52,
    "start_time": "2023-07-04T22:05:01.940Z"
   },
   {
    "duration": 59,
    "start_time": "2023-07-04T22:05:01.998Z"
   },
   {
    "duration": 95,
    "start_time": "2023-07-04T22:05:02.059Z"
   },
   {
    "duration": 43,
    "start_time": "2023-07-04T22:05:02.157Z"
   },
   {
    "duration": 77,
    "start_time": "2023-07-04T22:05:02.203Z"
   },
   {
    "duration": 73,
    "start_time": "2023-07-04T22:05:02.282Z"
   },
   {
    "duration": 54,
    "start_time": "2023-07-04T22:05:02.358Z"
   },
   {
    "duration": 52,
    "start_time": "2023-07-04T22:05:02.415Z"
   },
   {
    "duration": 16,
    "start_time": "2023-07-04T22:05:02.469Z"
   },
   {
    "duration": 70,
    "start_time": "2023-07-04T22:05:02.487Z"
   },
   {
    "duration": 68,
    "start_time": "2023-07-04T22:05:02.559Z"
   },
   {
    "duration": 24,
    "start_time": "2023-07-04T22:05:02.629Z"
   },
   {
    "duration": 34,
    "start_time": "2023-07-04T22:05:02.655Z"
   },
   {
    "duration": 61,
    "start_time": "2023-07-04T22:05:02.691Z"
   },
   {
    "duration": 34,
    "start_time": "2023-07-04T22:05:02.755Z"
   },
   {
    "duration": 5,
    "start_time": "2023-07-04T22:05:02.792Z"
   },
   {
    "duration": 51,
    "start_time": "2023-07-04T22:05:02.799Z"
   },
   {
    "duration": 22,
    "start_time": "2023-07-04T22:05:02.852Z"
   },
   {
    "duration": 82,
    "start_time": "2023-07-04T22:05:02.876Z"
   },
   {
    "duration": 12,
    "start_time": "2023-07-04T22:05:02.962Z"
   },
   {
    "duration": 74,
    "start_time": "2023-07-04T22:05:02.976Z"
   },
   {
    "duration": 36,
    "start_time": "2023-07-04T22:05:03.052Z"
   },
   {
    "duration": 56,
    "start_time": "2023-07-04T22:05:03.091Z"
   },
   {
    "duration": 14,
    "start_time": "2023-07-04T22:05:03.149Z"
   },
   {
    "duration": 25,
    "start_time": "2023-07-04T22:05:03.165Z"
   },
   {
    "duration": 54,
    "start_time": "2023-07-04T22:05:03.192Z"
   },
   {
    "duration": 35,
    "start_time": "2023-07-04T22:05:03.248Z"
   },
   {
    "duration": 74,
    "start_time": "2023-07-04T22:05:03.284Z"
   },
   {
    "duration": 32,
    "start_time": "2023-07-04T22:05:03.360Z"
   },
   {
    "duration": 4,
    "start_time": "2023-07-04T22:05:03.394Z"
   },
   {
    "duration": 42,
    "start_time": "2023-07-04T22:05:03.400Z"
   },
   {
    "duration": 34,
    "start_time": "2023-07-04T22:05:03.444Z"
   },
   {
    "duration": 62,
    "start_time": "2023-07-04T22:05:03.480Z"
   },
   {
    "duration": 12,
    "start_time": "2023-07-04T22:05:03.544Z"
   },
   {
    "duration": 11,
    "start_time": "2023-07-04T22:05:03.557Z"
   },
   {
    "duration": 24,
    "start_time": "2023-07-04T22:05:03.570Z"
   },
   {
    "duration": 19,
    "start_time": "2023-07-04T22:05:03.596Z"
   },
   {
    "duration": 33,
    "start_time": "2023-07-04T22:05:03.621Z"
   },
   {
    "duration": 18,
    "start_time": "2023-07-04T22:05:03.656Z"
   },
   {
    "duration": 6,
    "start_time": "2023-07-04T22:05:03.676Z"
   },
   {
    "duration": 27,
    "start_time": "2023-07-04T22:05:03.685Z"
   },
   {
    "duration": 81,
    "start_time": "2023-07-04T22:05:03.714Z"
   },
   {
    "duration": 21,
    "start_time": "2023-07-04T22:05:03.798Z"
   },
   {
    "duration": 59,
    "start_time": "2023-07-04T22:05:03.822Z"
   },
   {
    "duration": 60,
    "start_time": "2023-07-04T22:05:03.883Z"
   },
   {
    "duration": 13,
    "start_time": "2023-07-04T22:05:03.945Z"
   },
   {
    "duration": 22,
    "start_time": "2023-07-04T22:05:03.960Z"
   }
  ],
  "colab": {
   "provenance": []
  },
  "kernelspec": {
   "display_name": "Python 3 (ipykernel)",
   "language": "python",
   "name": "python3"
  },
  "language_info": {
   "codemirror_mode": {
    "name": "ipython",
    "version": 3
   },
   "file_extension": ".py",
   "mimetype": "text/x-python",
   "name": "python",
   "nbconvert_exporter": "python",
   "pygments_lexer": "ipython3",
   "version": "3.9.5"
  },
  "toc": {
   "base_numbering": 1,
   "nav_menu": {},
   "number_sections": true,
   "sideBar": true,
   "skip_h1_title": true,
   "title_cell": "Table of Contents",
   "title_sidebar": "Contents",
   "toc_cell": false,
   "toc_position": {
    "height": "calc(100% - 180px)",
    "left": "10px",
    "top": "150px",
    "width": "495.797px"
   },
   "toc_section_display": true,
   "toc_window_display": true
  }
 },
 "nbformat": 4,
 "nbformat_minor": 5
}
